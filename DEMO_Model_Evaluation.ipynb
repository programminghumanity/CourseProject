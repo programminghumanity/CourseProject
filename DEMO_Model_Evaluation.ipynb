{
  "nbformat": 4,
  "nbformat_minor": 0,
  "metadata": {
    "colab": {
      "name": "DEMO_Model_Evaluation.ipynb",
      "provenance": [],
      "collapsed_sections": [],
      "machine_shape": "hm",
      "authorship_tag": "ABX9TyOXJYztTPxbs8GwtUROPB5c",
      "include_colab_link": true
    },
    "kernelspec": {
      "name": "python3",
      "display_name": "Python 3"
    },
    "accelerator": "GPU",
    "widgets": {
      "application/vnd.jupyter.widget-state+json": {
        "1ebf1c11c7b64033b9c8791cab27aaba": {
          "model_module": "@jupyter-widgets/controls",
          "model_name": "HBoxModel",
          "state": {
            "_view_name": "HBoxView",
            "_dom_classes": [],
            "_model_name": "HBoxModel",
            "_view_module": "@jupyter-widgets/controls",
            "_model_module_version": "1.5.0",
            "_view_count": null,
            "_view_module_version": "1.5.0",
            "box_style": "",
            "layout": "IPY_MODEL_6affb6a08ae64cf8afe4556382653fa3",
            "_model_module": "@jupyter-widgets/controls",
            "children": [
              "IPY_MODEL_f86ccd6a1ee54d4f8cf10a27d524360e",
              "IPY_MODEL_5f91dfc188a642bc8288817b875b3da8"
            ]
          }
        },
        "6affb6a08ae64cf8afe4556382653fa3": {
          "model_module": "@jupyter-widgets/base",
          "model_name": "LayoutModel",
          "state": {
            "_view_name": "LayoutView",
            "grid_template_rows": null,
            "right": null,
            "justify_content": null,
            "_view_module": "@jupyter-widgets/base",
            "overflow": null,
            "_model_module_version": "1.2.0",
            "_view_count": null,
            "flex_flow": null,
            "width": null,
            "min_width": null,
            "border": null,
            "align_items": null,
            "bottom": null,
            "_model_module": "@jupyter-widgets/base",
            "top": null,
            "grid_column": null,
            "overflow_y": null,
            "overflow_x": null,
            "grid_auto_flow": null,
            "grid_area": null,
            "grid_template_columns": null,
            "flex": null,
            "_model_name": "LayoutModel",
            "justify_items": null,
            "grid_row": null,
            "max_height": null,
            "align_content": null,
            "visibility": null,
            "align_self": null,
            "height": null,
            "min_height": null,
            "padding": null,
            "grid_auto_rows": null,
            "grid_gap": null,
            "max_width": null,
            "order": null,
            "_view_module_version": "1.2.0",
            "grid_template_areas": null,
            "object_position": null,
            "object_fit": null,
            "grid_auto_columns": null,
            "margin": null,
            "display": null,
            "left": null
          }
        },
        "f86ccd6a1ee54d4f8cf10a27d524360e": {
          "model_module": "@jupyter-widgets/controls",
          "model_name": "FloatProgressModel",
          "state": {
            "_view_name": "ProgressView",
            "style": "IPY_MODEL_8e125817d2f545f0ad694b076636db59",
            "_dom_classes": [],
            "description": "Downloading: 100%",
            "_model_name": "FloatProgressModel",
            "bar_style": "success",
            "max": 231508,
            "_view_module": "@jupyter-widgets/controls",
            "_model_module_version": "1.5.0",
            "value": 231508,
            "_view_count": null,
            "_view_module_version": "1.5.0",
            "orientation": "horizontal",
            "min": 0,
            "description_tooltip": null,
            "_model_module": "@jupyter-widgets/controls",
            "layout": "IPY_MODEL_166c9be10c1640379f56d132a52f5983"
          }
        },
        "5f91dfc188a642bc8288817b875b3da8": {
          "model_module": "@jupyter-widgets/controls",
          "model_name": "HTMLModel",
          "state": {
            "_view_name": "HTMLView",
            "style": "IPY_MODEL_2bac93ad110c4172a2b27da38f746c0c",
            "_dom_classes": [],
            "description": "",
            "_model_name": "HTMLModel",
            "placeholder": "​",
            "_view_module": "@jupyter-widgets/controls",
            "_model_module_version": "1.5.0",
            "value": " 232k/232k [00:00&lt;00:00, 629kB/s]",
            "_view_count": null,
            "_view_module_version": "1.5.0",
            "description_tooltip": null,
            "_model_module": "@jupyter-widgets/controls",
            "layout": "IPY_MODEL_c2a89135d6fd4d469f17231e25ab6bc2"
          }
        },
        "8e125817d2f545f0ad694b076636db59": {
          "model_module": "@jupyter-widgets/controls",
          "model_name": "ProgressStyleModel",
          "state": {
            "_view_name": "StyleView",
            "_model_name": "ProgressStyleModel",
            "description_width": "initial",
            "_view_module": "@jupyter-widgets/base",
            "_model_module_version": "1.5.0",
            "_view_count": null,
            "_view_module_version": "1.2.0",
            "bar_color": null,
            "_model_module": "@jupyter-widgets/controls"
          }
        },
        "166c9be10c1640379f56d132a52f5983": {
          "model_module": "@jupyter-widgets/base",
          "model_name": "LayoutModel",
          "state": {
            "_view_name": "LayoutView",
            "grid_template_rows": null,
            "right": null,
            "justify_content": null,
            "_view_module": "@jupyter-widgets/base",
            "overflow": null,
            "_model_module_version": "1.2.0",
            "_view_count": null,
            "flex_flow": null,
            "width": null,
            "min_width": null,
            "border": null,
            "align_items": null,
            "bottom": null,
            "_model_module": "@jupyter-widgets/base",
            "top": null,
            "grid_column": null,
            "overflow_y": null,
            "overflow_x": null,
            "grid_auto_flow": null,
            "grid_area": null,
            "grid_template_columns": null,
            "flex": null,
            "_model_name": "LayoutModel",
            "justify_items": null,
            "grid_row": null,
            "max_height": null,
            "align_content": null,
            "visibility": null,
            "align_self": null,
            "height": null,
            "min_height": null,
            "padding": null,
            "grid_auto_rows": null,
            "grid_gap": null,
            "max_width": null,
            "order": null,
            "_view_module_version": "1.2.0",
            "grid_template_areas": null,
            "object_position": null,
            "object_fit": null,
            "grid_auto_columns": null,
            "margin": null,
            "display": null,
            "left": null
          }
        },
        "2bac93ad110c4172a2b27da38f746c0c": {
          "model_module": "@jupyter-widgets/controls",
          "model_name": "DescriptionStyleModel",
          "state": {
            "_view_name": "StyleView",
            "_model_name": "DescriptionStyleModel",
            "description_width": "",
            "_view_module": "@jupyter-widgets/base",
            "_model_module_version": "1.5.0",
            "_view_count": null,
            "_view_module_version": "1.2.0",
            "_model_module": "@jupyter-widgets/controls"
          }
        },
        "c2a89135d6fd4d469f17231e25ab6bc2": {
          "model_module": "@jupyter-widgets/base",
          "model_name": "LayoutModel",
          "state": {
            "_view_name": "LayoutView",
            "grid_template_rows": null,
            "right": null,
            "justify_content": null,
            "_view_module": "@jupyter-widgets/base",
            "overflow": null,
            "_model_module_version": "1.2.0",
            "_view_count": null,
            "flex_flow": null,
            "width": null,
            "min_width": null,
            "border": null,
            "align_items": null,
            "bottom": null,
            "_model_module": "@jupyter-widgets/base",
            "top": null,
            "grid_column": null,
            "overflow_y": null,
            "overflow_x": null,
            "grid_auto_flow": null,
            "grid_area": null,
            "grid_template_columns": null,
            "flex": null,
            "_model_name": "LayoutModel",
            "justify_items": null,
            "grid_row": null,
            "max_height": null,
            "align_content": null,
            "visibility": null,
            "align_self": null,
            "height": null,
            "min_height": null,
            "padding": null,
            "grid_auto_rows": null,
            "grid_gap": null,
            "max_width": null,
            "order": null,
            "_view_module_version": "1.2.0",
            "grid_template_areas": null,
            "object_position": null,
            "object_fit": null,
            "grid_auto_columns": null,
            "margin": null,
            "display": null,
            "left": null
          }
        },
        "8ef0cb28257e445da501577d38b2c792": {
          "model_module": "@jupyter-widgets/controls",
          "model_name": "HBoxModel",
          "state": {
            "_view_name": "HBoxView",
            "_dom_classes": [],
            "_model_name": "HBoxModel",
            "_view_module": "@jupyter-widgets/controls",
            "_model_module_version": "1.5.0",
            "_view_count": null,
            "_view_module_version": "1.5.0",
            "box_style": "",
            "layout": "IPY_MODEL_e372d733147c4158b1dc7c0534ea7f9d",
            "_model_module": "@jupyter-widgets/controls",
            "children": [
              "IPY_MODEL_b99841f91863419dab0b7ad213cb40ae",
              "IPY_MODEL_648e44df777f440b9276d8ee4e69333b"
            ]
          }
        },
        "e372d733147c4158b1dc7c0534ea7f9d": {
          "model_module": "@jupyter-widgets/base",
          "model_name": "LayoutModel",
          "state": {
            "_view_name": "LayoutView",
            "grid_template_rows": null,
            "right": null,
            "justify_content": null,
            "_view_module": "@jupyter-widgets/base",
            "overflow": null,
            "_model_module_version": "1.2.0",
            "_view_count": null,
            "flex_flow": null,
            "width": null,
            "min_width": null,
            "border": null,
            "align_items": null,
            "bottom": null,
            "_model_module": "@jupyter-widgets/base",
            "top": null,
            "grid_column": null,
            "overflow_y": null,
            "overflow_x": null,
            "grid_auto_flow": null,
            "grid_area": null,
            "grid_template_columns": null,
            "flex": null,
            "_model_name": "LayoutModel",
            "justify_items": null,
            "grid_row": null,
            "max_height": null,
            "align_content": null,
            "visibility": null,
            "align_self": null,
            "height": null,
            "min_height": null,
            "padding": null,
            "grid_auto_rows": null,
            "grid_gap": null,
            "max_width": null,
            "order": null,
            "_view_module_version": "1.2.0",
            "grid_template_areas": null,
            "object_position": null,
            "object_fit": null,
            "grid_auto_columns": null,
            "margin": null,
            "display": null,
            "left": null
          }
        },
        "b99841f91863419dab0b7ad213cb40ae": {
          "model_module": "@jupyter-widgets/controls",
          "model_name": "FloatProgressModel",
          "state": {
            "_view_name": "ProgressView",
            "style": "IPY_MODEL_446de5b9a84b4da48bec49865a5eff90",
            "_dom_classes": [],
            "description": "Downloading: 100%",
            "_model_name": "FloatProgressModel",
            "bar_style": "success",
            "max": 434,
            "_view_module": "@jupyter-widgets/controls",
            "_model_module_version": "1.5.0",
            "value": 434,
            "_view_count": null,
            "_view_module_version": "1.5.0",
            "orientation": "horizontal",
            "min": 0,
            "description_tooltip": null,
            "_model_module": "@jupyter-widgets/controls",
            "layout": "IPY_MODEL_790ca2d1e53444ce87a2ecd455b963b7"
          }
        },
        "648e44df777f440b9276d8ee4e69333b": {
          "model_module": "@jupyter-widgets/controls",
          "model_name": "HTMLModel",
          "state": {
            "_view_name": "HTMLView",
            "style": "IPY_MODEL_e1dcf9fd3de54c2781fa744dc4125412",
            "_dom_classes": [],
            "description": "",
            "_model_name": "HTMLModel",
            "placeholder": "​",
            "_view_module": "@jupyter-widgets/controls",
            "_model_module_version": "1.5.0",
            "value": " 434/434 [00:16&lt;00:00, 26.0B/s]",
            "_view_count": null,
            "_view_module_version": "1.5.0",
            "description_tooltip": null,
            "_model_module": "@jupyter-widgets/controls",
            "layout": "IPY_MODEL_8e4de922572b401e8f65bf2501d528f0"
          }
        },
        "446de5b9a84b4da48bec49865a5eff90": {
          "model_module": "@jupyter-widgets/controls",
          "model_name": "ProgressStyleModel",
          "state": {
            "_view_name": "StyleView",
            "_model_name": "ProgressStyleModel",
            "description_width": "initial",
            "_view_module": "@jupyter-widgets/base",
            "_model_module_version": "1.5.0",
            "_view_count": null,
            "_view_module_version": "1.2.0",
            "bar_color": null,
            "_model_module": "@jupyter-widgets/controls"
          }
        },
        "790ca2d1e53444ce87a2ecd455b963b7": {
          "model_module": "@jupyter-widgets/base",
          "model_name": "LayoutModel",
          "state": {
            "_view_name": "LayoutView",
            "grid_template_rows": null,
            "right": null,
            "justify_content": null,
            "_view_module": "@jupyter-widgets/base",
            "overflow": null,
            "_model_module_version": "1.2.0",
            "_view_count": null,
            "flex_flow": null,
            "width": null,
            "min_width": null,
            "border": null,
            "align_items": null,
            "bottom": null,
            "_model_module": "@jupyter-widgets/base",
            "top": null,
            "grid_column": null,
            "overflow_y": null,
            "overflow_x": null,
            "grid_auto_flow": null,
            "grid_area": null,
            "grid_template_columns": null,
            "flex": null,
            "_model_name": "LayoutModel",
            "justify_items": null,
            "grid_row": null,
            "max_height": null,
            "align_content": null,
            "visibility": null,
            "align_self": null,
            "height": null,
            "min_height": null,
            "padding": null,
            "grid_auto_rows": null,
            "grid_gap": null,
            "max_width": null,
            "order": null,
            "_view_module_version": "1.2.0",
            "grid_template_areas": null,
            "object_position": null,
            "object_fit": null,
            "grid_auto_columns": null,
            "margin": null,
            "display": null,
            "left": null
          }
        },
        "e1dcf9fd3de54c2781fa744dc4125412": {
          "model_module": "@jupyter-widgets/controls",
          "model_name": "DescriptionStyleModel",
          "state": {
            "_view_name": "StyleView",
            "_model_name": "DescriptionStyleModel",
            "description_width": "",
            "_view_module": "@jupyter-widgets/base",
            "_model_module_version": "1.5.0",
            "_view_count": null,
            "_view_module_version": "1.2.0",
            "_model_module": "@jupyter-widgets/controls"
          }
        },
        "8e4de922572b401e8f65bf2501d528f0": {
          "model_module": "@jupyter-widgets/base",
          "model_name": "LayoutModel",
          "state": {
            "_view_name": "LayoutView",
            "grid_template_rows": null,
            "right": null,
            "justify_content": null,
            "_view_module": "@jupyter-widgets/base",
            "overflow": null,
            "_model_module_version": "1.2.0",
            "_view_count": null,
            "flex_flow": null,
            "width": null,
            "min_width": null,
            "border": null,
            "align_items": null,
            "bottom": null,
            "_model_module": "@jupyter-widgets/base",
            "top": null,
            "grid_column": null,
            "overflow_y": null,
            "overflow_x": null,
            "grid_auto_flow": null,
            "grid_area": null,
            "grid_template_columns": null,
            "flex": null,
            "_model_name": "LayoutModel",
            "justify_items": null,
            "grid_row": null,
            "max_height": null,
            "align_content": null,
            "visibility": null,
            "align_self": null,
            "height": null,
            "min_height": null,
            "padding": null,
            "grid_auto_rows": null,
            "grid_gap": null,
            "max_width": null,
            "order": null,
            "_view_module_version": "1.2.0",
            "grid_template_areas": null,
            "object_position": null,
            "object_fit": null,
            "grid_auto_columns": null,
            "margin": null,
            "display": null,
            "left": null
          }
        },
        "5f5b0220e81241c3ab4efcb67b97807d": {
          "model_module": "@jupyter-widgets/controls",
          "model_name": "HBoxModel",
          "state": {
            "_view_name": "HBoxView",
            "_dom_classes": [],
            "_model_name": "HBoxModel",
            "_view_module": "@jupyter-widgets/controls",
            "_model_module_version": "1.5.0",
            "_view_count": null,
            "_view_module_version": "1.5.0",
            "box_style": "",
            "layout": "IPY_MODEL_13c59842b5eb4e2aa1652d4c82076c57",
            "_model_module": "@jupyter-widgets/controls",
            "children": [
              "IPY_MODEL_7fce8cffb14d42d3bb251ce505d96eb3",
              "IPY_MODEL_26b68dd052594aa2a62de9290160c7a9"
            ]
          }
        },
        "13c59842b5eb4e2aa1652d4c82076c57": {
          "model_module": "@jupyter-widgets/base",
          "model_name": "LayoutModel",
          "state": {
            "_view_name": "LayoutView",
            "grid_template_rows": null,
            "right": null,
            "justify_content": null,
            "_view_module": "@jupyter-widgets/base",
            "overflow": null,
            "_model_module_version": "1.2.0",
            "_view_count": null,
            "flex_flow": null,
            "width": null,
            "min_width": null,
            "border": null,
            "align_items": null,
            "bottom": null,
            "_model_module": "@jupyter-widgets/base",
            "top": null,
            "grid_column": null,
            "overflow_y": null,
            "overflow_x": null,
            "grid_auto_flow": null,
            "grid_area": null,
            "grid_template_columns": null,
            "flex": null,
            "_model_name": "LayoutModel",
            "justify_items": null,
            "grid_row": null,
            "max_height": null,
            "align_content": null,
            "visibility": null,
            "align_self": null,
            "height": null,
            "min_height": null,
            "padding": null,
            "grid_auto_rows": null,
            "grid_gap": null,
            "max_width": null,
            "order": null,
            "_view_module_version": "1.2.0",
            "grid_template_areas": null,
            "object_position": null,
            "object_fit": null,
            "grid_auto_columns": null,
            "margin": null,
            "display": null,
            "left": null
          }
        },
        "7fce8cffb14d42d3bb251ce505d96eb3": {
          "model_module": "@jupyter-widgets/controls",
          "model_name": "FloatProgressModel",
          "state": {
            "_view_name": "ProgressView",
            "style": "IPY_MODEL_a70611d77b684d6399b5000ca81af775",
            "_dom_classes": [],
            "description": "Downloading: 100%",
            "_model_name": "FloatProgressModel",
            "bar_style": "success",
            "max": 1344997306,
            "_view_module": "@jupyter-widgets/controls",
            "_model_module_version": "1.5.0",
            "value": 1344997306,
            "_view_count": null,
            "_view_module_version": "1.5.0",
            "orientation": "horizontal",
            "min": 0,
            "description_tooltip": null,
            "_model_module": "@jupyter-widgets/controls",
            "layout": "IPY_MODEL_80e83147e1bf4261944d867ff9ffaff0"
          }
        },
        "26b68dd052594aa2a62de9290160c7a9": {
          "model_module": "@jupyter-widgets/controls",
          "model_name": "HTMLModel",
          "state": {
            "_view_name": "HTMLView",
            "style": "IPY_MODEL_d875ef1d64dc4fe8aa19b2589e288b4c",
            "_dom_classes": [],
            "description": "",
            "_model_name": "HTMLModel",
            "placeholder": "​",
            "_view_module": "@jupyter-widgets/controls",
            "_model_module_version": "1.5.0",
            "value": " 1.34G/1.34G [00:16&lt;00:00, 81.0MB/s]",
            "_view_count": null,
            "_view_module_version": "1.5.0",
            "description_tooltip": null,
            "_model_module": "@jupyter-widgets/controls",
            "layout": "IPY_MODEL_3f040a20e71f4bb4a523bbd42ae194d9"
          }
        },
        "a70611d77b684d6399b5000ca81af775": {
          "model_module": "@jupyter-widgets/controls",
          "model_name": "ProgressStyleModel",
          "state": {
            "_view_name": "StyleView",
            "_model_name": "ProgressStyleModel",
            "description_width": "initial",
            "_view_module": "@jupyter-widgets/base",
            "_model_module_version": "1.5.0",
            "_view_count": null,
            "_view_module_version": "1.2.0",
            "bar_color": null,
            "_model_module": "@jupyter-widgets/controls"
          }
        },
        "80e83147e1bf4261944d867ff9ffaff0": {
          "model_module": "@jupyter-widgets/base",
          "model_name": "LayoutModel",
          "state": {
            "_view_name": "LayoutView",
            "grid_template_rows": null,
            "right": null,
            "justify_content": null,
            "_view_module": "@jupyter-widgets/base",
            "overflow": null,
            "_model_module_version": "1.2.0",
            "_view_count": null,
            "flex_flow": null,
            "width": null,
            "min_width": null,
            "border": null,
            "align_items": null,
            "bottom": null,
            "_model_module": "@jupyter-widgets/base",
            "top": null,
            "grid_column": null,
            "overflow_y": null,
            "overflow_x": null,
            "grid_auto_flow": null,
            "grid_area": null,
            "grid_template_columns": null,
            "flex": null,
            "_model_name": "LayoutModel",
            "justify_items": null,
            "grid_row": null,
            "max_height": null,
            "align_content": null,
            "visibility": null,
            "align_self": null,
            "height": null,
            "min_height": null,
            "padding": null,
            "grid_auto_rows": null,
            "grid_gap": null,
            "max_width": null,
            "order": null,
            "_view_module_version": "1.2.0",
            "grid_template_areas": null,
            "object_position": null,
            "object_fit": null,
            "grid_auto_columns": null,
            "margin": null,
            "display": null,
            "left": null
          }
        },
        "d875ef1d64dc4fe8aa19b2589e288b4c": {
          "model_module": "@jupyter-widgets/controls",
          "model_name": "DescriptionStyleModel",
          "state": {
            "_view_name": "StyleView",
            "_model_name": "DescriptionStyleModel",
            "description_width": "",
            "_view_module": "@jupyter-widgets/base",
            "_model_module_version": "1.5.0",
            "_view_count": null,
            "_view_module_version": "1.2.0",
            "_model_module": "@jupyter-widgets/controls"
          }
        },
        "3f040a20e71f4bb4a523bbd42ae194d9": {
          "model_module": "@jupyter-widgets/base",
          "model_name": "LayoutModel",
          "state": {
            "_view_name": "LayoutView",
            "grid_template_rows": null,
            "right": null,
            "justify_content": null,
            "_view_module": "@jupyter-widgets/base",
            "overflow": null,
            "_model_module_version": "1.2.0",
            "_view_count": null,
            "flex_flow": null,
            "width": null,
            "min_width": null,
            "border": null,
            "align_items": null,
            "bottom": null,
            "_model_module": "@jupyter-widgets/base",
            "top": null,
            "grid_column": null,
            "overflow_y": null,
            "overflow_x": null,
            "grid_auto_flow": null,
            "grid_area": null,
            "grid_template_columns": null,
            "flex": null,
            "_model_name": "LayoutModel",
            "justify_items": null,
            "grid_row": null,
            "max_height": null,
            "align_content": null,
            "visibility": null,
            "align_self": null,
            "height": null,
            "min_height": null,
            "padding": null,
            "grid_auto_rows": null,
            "grid_gap": null,
            "max_width": null,
            "order": null,
            "_view_module_version": "1.2.0",
            "grid_template_areas": null,
            "object_position": null,
            "object_fit": null,
            "grid_auto_columns": null,
            "margin": null,
            "display": null,
            "left": null
          }
        },
        "443f000473764bc7aa35c33979a64361": {
          "model_module": "@jupyter-widgets/controls",
          "model_name": "HBoxModel",
          "state": {
            "_view_name": "HBoxView",
            "_dom_classes": [],
            "_model_name": "HBoxModel",
            "_view_module": "@jupyter-widgets/controls",
            "_model_module_version": "1.5.0",
            "_view_count": null,
            "_view_module_version": "1.5.0",
            "box_style": "",
            "layout": "IPY_MODEL_ca7669f455534e9a912e5d95450e2cfb",
            "_model_module": "@jupyter-widgets/controls",
            "children": [
              "IPY_MODEL_9e8aebb5cbc04b0bb8eb4c90fafba28b",
              "IPY_MODEL_0a9e91e4e7eb4ad2bce32ba2b3017fef"
            ]
          }
        },
        "ca7669f455534e9a912e5d95450e2cfb": {
          "model_module": "@jupyter-widgets/base",
          "model_name": "LayoutModel",
          "state": {
            "_view_name": "LayoutView",
            "grid_template_rows": null,
            "right": null,
            "justify_content": null,
            "_view_module": "@jupyter-widgets/base",
            "overflow": null,
            "_model_module_version": "1.2.0",
            "_view_count": null,
            "flex_flow": null,
            "width": null,
            "min_width": null,
            "border": null,
            "align_items": null,
            "bottom": null,
            "_model_module": "@jupyter-widgets/base",
            "top": null,
            "grid_column": null,
            "overflow_y": null,
            "overflow_x": null,
            "grid_auto_flow": null,
            "grid_area": null,
            "grid_template_columns": null,
            "flex": null,
            "_model_name": "LayoutModel",
            "justify_items": null,
            "grid_row": null,
            "max_height": null,
            "align_content": null,
            "visibility": null,
            "align_self": null,
            "height": null,
            "min_height": null,
            "padding": null,
            "grid_auto_rows": null,
            "grid_gap": null,
            "max_width": null,
            "order": null,
            "_view_module_version": "1.2.0",
            "grid_template_areas": null,
            "object_position": null,
            "object_fit": null,
            "grid_auto_columns": null,
            "margin": null,
            "display": null,
            "left": null
          }
        },
        "9e8aebb5cbc04b0bb8eb4c90fafba28b": {
          "model_module": "@jupyter-widgets/controls",
          "model_name": "FloatProgressModel",
          "state": {
            "_view_name": "ProgressView",
            "style": "IPY_MODEL_beab21b8669d44fc88bbdb8ed15d0011",
            "_dom_classes": [],
            "description": "100%",
            "_model_name": "FloatProgressModel",
            "bar_style": "",
            "max": 360,
            "_view_module": "@jupyter-widgets/controls",
            "_model_module_version": "1.5.0",
            "value": 360,
            "_view_count": null,
            "_view_module_version": "1.5.0",
            "orientation": "horizontal",
            "min": 0,
            "description_tooltip": null,
            "_model_module": "@jupyter-widgets/controls",
            "layout": "IPY_MODEL_0f8c6d96e4424f70bd439ac24b7e40b8"
          }
        },
        "0a9e91e4e7eb4ad2bce32ba2b3017fef": {
          "model_module": "@jupyter-widgets/controls",
          "model_name": "HTMLModel",
          "state": {
            "_view_name": "HTMLView",
            "style": "IPY_MODEL_e9ec9827d4d14c958928e835ef2e031c",
            "_dom_classes": [],
            "description": "",
            "_model_name": "HTMLModel",
            "placeholder": "​",
            "_view_module": "@jupyter-widgets/controls",
            "_model_module_version": "1.5.0",
            "value": " 360/360 [00:36&lt;00:00,  9.93it/s]",
            "_view_count": null,
            "_view_module_version": "1.5.0",
            "description_tooltip": null,
            "_model_module": "@jupyter-widgets/controls",
            "layout": "IPY_MODEL_a2dd2e3450064afbb554ad5888ab583b"
          }
        },
        "beab21b8669d44fc88bbdb8ed15d0011": {
          "model_module": "@jupyter-widgets/controls",
          "model_name": "ProgressStyleModel",
          "state": {
            "_view_name": "StyleView",
            "_model_name": "ProgressStyleModel",
            "description_width": "initial",
            "_view_module": "@jupyter-widgets/base",
            "_model_module_version": "1.5.0",
            "_view_count": null,
            "_view_module_version": "1.2.0",
            "bar_color": null,
            "_model_module": "@jupyter-widgets/controls"
          }
        },
        "0f8c6d96e4424f70bd439ac24b7e40b8": {
          "model_module": "@jupyter-widgets/base",
          "model_name": "LayoutModel",
          "state": {
            "_view_name": "LayoutView",
            "grid_template_rows": null,
            "right": null,
            "justify_content": null,
            "_view_module": "@jupyter-widgets/base",
            "overflow": null,
            "_model_module_version": "1.2.0",
            "_view_count": null,
            "flex_flow": null,
            "width": null,
            "min_width": null,
            "border": null,
            "align_items": null,
            "bottom": null,
            "_model_module": "@jupyter-widgets/base",
            "top": null,
            "grid_column": null,
            "overflow_y": null,
            "overflow_x": null,
            "grid_auto_flow": null,
            "grid_area": null,
            "grid_template_columns": null,
            "flex": null,
            "_model_name": "LayoutModel",
            "justify_items": null,
            "grid_row": null,
            "max_height": null,
            "align_content": null,
            "visibility": null,
            "align_self": null,
            "height": null,
            "min_height": null,
            "padding": null,
            "grid_auto_rows": null,
            "grid_gap": null,
            "max_width": null,
            "order": null,
            "_view_module_version": "1.2.0",
            "grid_template_areas": null,
            "object_position": null,
            "object_fit": null,
            "grid_auto_columns": null,
            "margin": null,
            "display": null,
            "left": null
          }
        },
        "e9ec9827d4d14c958928e835ef2e031c": {
          "model_module": "@jupyter-widgets/controls",
          "model_name": "DescriptionStyleModel",
          "state": {
            "_view_name": "StyleView",
            "_model_name": "DescriptionStyleModel",
            "description_width": "",
            "_view_module": "@jupyter-widgets/base",
            "_model_module_version": "1.5.0",
            "_view_count": null,
            "_view_module_version": "1.2.0",
            "_model_module": "@jupyter-widgets/controls"
          }
        },
        "a2dd2e3450064afbb554ad5888ab583b": {
          "model_module": "@jupyter-widgets/base",
          "model_name": "LayoutModel",
          "state": {
            "_view_name": "LayoutView",
            "grid_template_rows": null,
            "right": null,
            "justify_content": null,
            "_view_module": "@jupyter-widgets/base",
            "overflow": null,
            "_model_module_version": "1.2.0",
            "_view_count": null,
            "flex_flow": null,
            "width": null,
            "min_width": null,
            "border": null,
            "align_items": null,
            "bottom": null,
            "_model_module": "@jupyter-widgets/base",
            "top": null,
            "grid_column": null,
            "overflow_y": null,
            "overflow_x": null,
            "grid_auto_flow": null,
            "grid_area": null,
            "grid_template_columns": null,
            "flex": null,
            "_model_name": "LayoutModel",
            "justify_items": null,
            "grid_row": null,
            "max_height": null,
            "align_content": null,
            "visibility": null,
            "align_self": null,
            "height": null,
            "min_height": null,
            "padding": null,
            "grid_auto_rows": null,
            "grid_gap": null,
            "max_width": null,
            "order": null,
            "_view_module_version": "1.2.0",
            "grid_template_areas": null,
            "object_position": null,
            "object_fit": null,
            "grid_auto_columns": null,
            "margin": null,
            "display": null,
            "left": null
          }
        }
      }
    }
  },
  "cells": [
    {
      "cell_type": "markdown",
      "metadata": {
        "id": "view-in-github",
        "colab_type": "text"
      },
      "source": [
        "<a href=\"https://colab.research.google.com/github/zen030/CourseProject/blob/main/DEMO_Model_Evaluation.ipynb\" target=\"_parent\"><img src=\"https://colab.research.google.com/assets/colab-badge.svg\" alt=\"Open In Colab\"/></a>"
      ]
    },
    {
      "cell_type": "markdown",
      "metadata": {
        "id": "Dkl0xauiifVr"
      },
      "source": [
        "# **Introduction**\n",
        "<b>This notebook is implemented and tested in Google Colab PRO environment.</b>\n",
        "\n",
        "\n",
        "In this demo, I use the BERT model trained using the following parameters: \n",
        "- Learning rates (each for 4 epoch iterations): 2e-5\n",
        "- Optimizer Epsilon value: 1e-8\n",
        "- Random Seed value: 17\n",
        "- Evaluation is done only for model epoch # 4\n",
        "\n",
        "The files in this demo:\n",
        "- The trained model used in this demo: https://drive.google.com/file/d/1EYU2wf6OZnBEAs2uYJBfL53ba8ba1Gll/view?usp=sharing\n",
        "- answer.txt generated from this demo: https://drive.google.com/file/d/14tLEIr07SK4uq5cx7lrUOj_IzJZuUGYO/view?usp=sharing\n",
        "\n",
        "\n",
        "<b>Run this demo, you should generate the same answer.txt file in the Colab session! Please compare your run result with this file (they should be matching).</b>\n"
      ]
    },
    {
      "cell_type": "markdown",
      "metadata": {
        "id": "3-wtuQ7-_UT2"
      },
      "source": [
        "# 1. Colab environment configuration and import modules"
      ]
    },
    {
      "cell_type": "code",
      "metadata": {
        "id": "_Lw3uHrhN88Z",
        "outputId": "9c059348-04c3-4734-f9ad-57edb5ee5a8d",
        "colab": {
          "base_uri": "https://localhost:8080/"
        }
      },
      "source": [
        "# install required modules\n",
        "!pip install transformers\n",
        "!pip install PyDrive"
      ],
      "execution_count": 1,
      "outputs": [
        {
          "output_type": "stream",
          "text": [
            "Collecting transformers\n",
            "\u001b[?25l  Downloading https://files.pythonhosted.org/packages/2c/4e/4f1ede0fd7a36278844a277f8d53c21f88f37f3754abf76a5d6224f76d4a/transformers-3.4.0-py3-none-any.whl (1.3MB)\n",
            "\r\u001b[K     |▎                               | 10kB 20.2MB/s eta 0:00:01\r\u001b[K     |▌                               | 20kB 6.2MB/s eta 0:00:01\r\u001b[K     |▉                               | 30kB 7.4MB/s eta 0:00:01\r\u001b[K     |█                               | 40kB 8.2MB/s eta 0:00:01\r\u001b[K     |█▎                              | 51kB 6.6MB/s eta 0:00:01\r\u001b[K     |█▋                              | 61kB 7.2MB/s eta 0:00:01\r\u001b[K     |█▉                              | 71kB 8.2MB/s eta 0:00:01\r\u001b[K     |██                              | 81kB 8.4MB/s eta 0:00:01\r\u001b[K     |██▍                             | 92kB 8.0MB/s eta 0:00:01\r\u001b[K     |██▋                             | 102kB 8.2MB/s eta 0:00:01\r\u001b[K     |██▉                             | 112kB 8.2MB/s eta 0:00:01\r\u001b[K     |███▏                            | 122kB 8.2MB/s eta 0:00:01\r\u001b[K     |███▍                            | 133kB 8.2MB/s eta 0:00:01\r\u001b[K     |███▋                            | 143kB 8.2MB/s eta 0:00:01\r\u001b[K     |████                            | 153kB 8.2MB/s eta 0:00:01\r\u001b[K     |████▏                           | 163kB 8.2MB/s eta 0:00:01\r\u001b[K     |████▍                           | 174kB 8.2MB/s eta 0:00:01\r\u001b[K     |████▊                           | 184kB 8.2MB/s eta 0:00:01\r\u001b[K     |█████                           | 194kB 8.2MB/s eta 0:00:01\r\u001b[K     |█████▏                          | 204kB 8.2MB/s eta 0:00:01\r\u001b[K     |█████▌                          | 215kB 8.2MB/s eta 0:00:01\r\u001b[K     |█████▊                          | 225kB 8.2MB/s eta 0:00:01\r\u001b[K     |██████                          | 235kB 8.2MB/s eta 0:00:01\r\u001b[K     |██████▎                         | 245kB 8.2MB/s eta 0:00:01\r\u001b[K     |██████▌                         | 256kB 8.2MB/s eta 0:00:01\r\u001b[K     |██████▊                         | 266kB 8.2MB/s eta 0:00:01\r\u001b[K     |███████                         | 276kB 8.2MB/s eta 0:00:01\r\u001b[K     |███████▎                        | 286kB 8.2MB/s eta 0:00:01\r\u001b[K     |███████▋                        | 296kB 8.2MB/s eta 0:00:01\r\u001b[K     |███████▉                        | 307kB 8.2MB/s eta 0:00:01\r\u001b[K     |████████                        | 317kB 8.2MB/s eta 0:00:01\r\u001b[K     |████████▍                       | 327kB 8.2MB/s eta 0:00:01\r\u001b[K     |████████▋                       | 337kB 8.2MB/s eta 0:00:01\r\u001b[K     |████████▉                       | 348kB 8.2MB/s eta 0:00:01\r\u001b[K     |█████████▏                      | 358kB 8.2MB/s eta 0:00:01\r\u001b[K     |█████████▍                      | 368kB 8.2MB/s eta 0:00:01\r\u001b[K     |█████████▋                      | 378kB 8.2MB/s eta 0:00:01\r\u001b[K     |██████████                      | 389kB 8.2MB/s eta 0:00:01\r\u001b[K     |██████████▏                     | 399kB 8.2MB/s eta 0:00:01\r\u001b[K     |██████████▍                     | 409kB 8.2MB/s eta 0:00:01\r\u001b[K     |██████████▊                     | 419kB 8.2MB/s eta 0:00:01\r\u001b[K     |███████████                     | 430kB 8.2MB/s eta 0:00:01\r\u001b[K     |███████████▏                    | 440kB 8.2MB/s eta 0:00:01\r\u001b[K     |███████████▌                    | 450kB 8.2MB/s eta 0:00:01\r\u001b[K     |███████████▊                    | 460kB 8.2MB/s eta 0:00:01\r\u001b[K     |████████████                    | 471kB 8.2MB/s eta 0:00:01\r\u001b[K     |████████████▎                   | 481kB 8.2MB/s eta 0:00:01\r\u001b[K     |████████████▌                   | 491kB 8.2MB/s eta 0:00:01\r\u001b[K     |████████████▊                   | 501kB 8.2MB/s eta 0:00:01\r\u001b[K     |█████████████                   | 512kB 8.2MB/s eta 0:00:01\r\u001b[K     |█████████████▎                  | 522kB 8.2MB/s eta 0:00:01\r\u001b[K     |█████████████▌                  | 532kB 8.2MB/s eta 0:00:01\r\u001b[K     |█████████████▉                  | 542kB 8.2MB/s eta 0:00:01\r\u001b[K     |██████████████                  | 552kB 8.2MB/s eta 0:00:01\r\u001b[K     |██████████████▍                 | 563kB 8.2MB/s eta 0:00:01\r\u001b[K     |██████████████▋                 | 573kB 8.2MB/s eta 0:00:01\r\u001b[K     |██████████████▉                 | 583kB 8.2MB/s eta 0:00:01\r\u001b[K     |███████████████▏                | 593kB 8.2MB/s eta 0:00:01\r\u001b[K     |███████████████▍                | 604kB 8.2MB/s eta 0:00:01\r\u001b[K     |███████████████▋                | 614kB 8.2MB/s eta 0:00:01\r\u001b[K     |████████████████                | 624kB 8.2MB/s eta 0:00:01\r\u001b[K     |████████████████▏               | 634kB 8.2MB/s eta 0:00:01\r\u001b[K     |████████████████▍               | 645kB 8.2MB/s eta 0:00:01\r\u001b[K     |████████████████▊               | 655kB 8.2MB/s eta 0:00:01\r\u001b[K     |█████████████████               | 665kB 8.2MB/s eta 0:00:01\r\u001b[K     |█████████████████▏              | 675kB 8.2MB/s eta 0:00:01\r\u001b[K     |█████████████████▌              | 686kB 8.2MB/s eta 0:00:01\r\u001b[K     |█████████████████▊              | 696kB 8.2MB/s eta 0:00:01\r\u001b[K     |██████████████████              | 706kB 8.2MB/s eta 0:00:01\r\u001b[K     |██████████████████▎             | 716kB 8.2MB/s eta 0:00:01\r\u001b[K     |██████████████████▌             | 727kB 8.2MB/s eta 0:00:01\r\u001b[K     |██████████████████▊             | 737kB 8.2MB/s eta 0:00:01\r\u001b[K     |███████████████████             | 747kB 8.2MB/s eta 0:00:01\r\u001b[K     |███████████████████▎            | 757kB 8.2MB/s eta 0:00:01\r\u001b[K     |███████████████████▌            | 768kB 8.2MB/s eta 0:00:01\r\u001b[K     |███████████████████▉            | 778kB 8.2MB/s eta 0:00:01\r\u001b[K     |████████████████████            | 788kB 8.2MB/s eta 0:00:01\r\u001b[K     |████████████████████▎           | 798kB 8.2MB/s eta 0:00:01\r\u001b[K     |████████████████████▋           | 808kB 8.2MB/s eta 0:00:01\r\u001b[K     |████████████████████▉           | 819kB 8.2MB/s eta 0:00:01\r\u001b[K     |█████████████████████           | 829kB 8.2MB/s eta 0:00:01\r\u001b[K     |█████████████████████▍          | 839kB 8.2MB/s eta 0:00:01\r\u001b[K     |█████████████████████▋          | 849kB 8.2MB/s eta 0:00:01\r\u001b[K     |██████████████████████          | 860kB 8.2MB/s eta 0:00:01\r\u001b[K     |██████████████████████▏         | 870kB 8.2MB/s eta 0:00:01\r\u001b[K     |██████████████████████▍         | 880kB 8.2MB/s eta 0:00:01\r\u001b[K     |██████████████████████▊         | 890kB 8.2MB/s eta 0:00:01\r\u001b[K     |███████████████████████         | 901kB 8.2MB/s eta 0:00:01\r\u001b[K     |███████████████████████▏        | 911kB 8.2MB/s eta 0:00:01\r\u001b[K     |███████████████████████▌        | 921kB 8.2MB/s eta 0:00:01\r\u001b[K     |███████████████████████▊        | 931kB 8.2MB/s eta 0:00:01\r\u001b[K     |████████████████████████        | 942kB 8.2MB/s eta 0:00:01\r\u001b[K     |████████████████████████▎       | 952kB 8.2MB/s eta 0:00:01\r\u001b[K     |████████████████████████▌       | 962kB 8.2MB/s eta 0:00:01\r\u001b[K     |████████████████████████▊       | 972kB 8.2MB/s eta 0:00:01\r\u001b[K     |█████████████████████████       | 983kB 8.2MB/s eta 0:00:01\r\u001b[K     |█████████████████████████▎      | 993kB 8.2MB/s eta 0:00:01\r\u001b[K     |█████████████████████████▌      | 1.0MB 8.2MB/s eta 0:00:01\r\u001b[K     |█████████████████████████▉      | 1.0MB 8.2MB/s eta 0:00:01\r\u001b[K     |██████████████████████████      | 1.0MB 8.2MB/s eta 0:00:01\r\u001b[K     |██████████████████████████▎     | 1.0MB 8.2MB/s eta 0:00:01\r\u001b[K     |██████████████████████████▋     | 1.0MB 8.2MB/s eta 0:00:01\r\u001b[K     |██████████████████████████▉     | 1.1MB 8.2MB/s eta 0:00:01\r\u001b[K     |███████████████████████████     | 1.1MB 8.2MB/s eta 0:00:01\r\u001b[K     |███████████████████████████▍    | 1.1MB 8.2MB/s eta 0:00:01\r\u001b[K     |███████████████████████████▋    | 1.1MB 8.2MB/s eta 0:00:01\r\u001b[K     |███████████████████████████▉    | 1.1MB 8.2MB/s eta 0:00:01\r\u001b[K     |████████████████████████████▏   | 1.1MB 8.2MB/s eta 0:00:01\r\u001b[K     |████████████████████████████▍   | 1.1MB 8.2MB/s eta 0:00:01\r\u001b[K     |████████████████████████████▊   | 1.1MB 8.2MB/s eta 0:00:01\r\u001b[K     |█████████████████████████████   | 1.1MB 8.2MB/s eta 0:00:01\r\u001b[K     |█████████████████████████████▏  | 1.1MB 8.2MB/s eta 0:00:01\r\u001b[K     |█████████████████████████████▌  | 1.2MB 8.2MB/s eta 0:00:01\r\u001b[K     |█████████████████████████████▊  | 1.2MB 8.2MB/s eta 0:00:01\r\u001b[K     |██████████████████████████████  | 1.2MB 8.2MB/s eta 0:00:01\r\u001b[K     |██████████████████████████████▎ | 1.2MB 8.2MB/s eta 0:00:01\r\u001b[K     |██████████████████████████████▌ | 1.2MB 8.2MB/s eta 0:00:01\r\u001b[K     |██████████████████████████████▊ | 1.2MB 8.2MB/s eta 0:00:01\r\u001b[K     |███████████████████████████████ | 1.2MB 8.2MB/s eta 0:00:01\r\u001b[K     |███████████████████████████████▎| 1.2MB 8.2MB/s eta 0:00:01\r\u001b[K     |███████████████████████████████▌| 1.2MB 8.2MB/s eta 0:00:01\r\u001b[K     |███████████████████████████████▉| 1.2MB 8.2MB/s eta 0:00:01\r\u001b[K     |████████████████████████████████| 1.3MB 8.2MB/s \n",
            "\u001b[?25hRequirement already satisfied: tqdm>=4.27 in /usr/local/lib/python3.6/dist-packages (from transformers) (4.41.1)\n",
            "Collecting sentencepiece!=0.1.92\n",
            "\u001b[?25l  Downloading https://files.pythonhosted.org/packages/e5/2d/6d4ca4bef9a67070fa1cac508606328329152b1df10bdf31fb6e4e727894/sentencepiece-0.1.94-cp36-cp36m-manylinux2014_x86_64.whl (1.1MB)\n",
            "\u001b[K     |████████████████████████████████| 1.1MB 29.0MB/s \n",
            "\u001b[?25hRequirement already satisfied: regex!=2019.12.17 in /usr/local/lib/python3.6/dist-packages (from transformers) (2019.12.20)\n",
            "Collecting sacremoses\n",
            "\u001b[?25l  Downloading https://files.pythonhosted.org/packages/7d/34/09d19aff26edcc8eb2a01bed8e98f13a1537005d31e95233fd48216eed10/sacremoses-0.0.43.tar.gz (883kB)\n",
            "\u001b[K     |████████████████████████████████| 890kB 52.2MB/s \n",
            "\u001b[?25hRequirement already satisfied: protobuf in /usr/local/lib/python3.6/dist-packages (from transformers) (3.12.4)\n",
            "Requirement already satisfied: dataclasses; python_version < \"3.7\" in /usr/local/lib/python3.6/dist-packages (from transformers) (0.7)\n",
            "Requirement already satisfied: requests in /usr/local/lib/python3.6/dist-packages (from transformers) (2.23.0)\n",
            "Requirement already satisfied: numpy in /usr/local/lib/python3.6/dist-packages (from transformers) (1.18.5)\n",
            "Requirement already satisfied: filelock in /usr/local/lib/python3.6/dist-packages (from transformers) (3.0.12)\n",
            "Collecting tokenizers==0.9.2\n",
            "\u001b[?25l  Downloading https://files.pythonhosted.org/packages/7c/a5/78be1a55b2ac8d6a956f0a211d372726e2b1dd2666bb537fea9b03abd62c/tokenizers-0.9.2-cp36-cp36m-manylinux1_x86_64.whl (2.9MB)\n",
            "\u001b[K     |████████████████████████████████| 2.9MB 52.2MB/s \n",
            "\u001b[?25hRequirement already satisfied: packaging in /usr/local/lib/python3.6/dist-packages (from transformers) (20.4)\n",
            "Requirement already satisfied: six in /usr/local/lib/python3.6/dist-packages (from sacremoses->transformers) (1.15.0)\n",
            "Requirement already satisfied: click in /usr/local/lib/python3.6/dist-packages (from sacremoses->transformers) (7.1.2)\n",
            "Requirement already satisfied: joblib in /usr/local/lib/python3.6/dist-packages (from sacremoses->transformers) (0.17.0)\n",
            "Requirement already satisfied: setuptools in /usr/local/lib/python3.6/dist-packages (from protobuf->transformers) (50.3.2)\n",
            "Requirement already satisfied: urllib3!=1.25.0,!=1.25.1,<1.26,>=1.21.1 in /usr/local/lib/python3.6/dist-packages (from requests->transformers) (1.24.3)\n",
            "Requirement already satisfied: chardet<4,>=3.0.2 in /usr/local/lib/python3.6/dist-packages (from requests->transformers) (3.0.4)\n",
            "Requirement already satisfied: certifi>=2017.4.17 in /usr/local/lib/python3.6/dist-packages (from requests->transformers) (2020.6.20)\n",
            "Requirement already satisfied: idna<3,>=2.5 in /usr/local/lib/python3.6/dist-packages (from requests->transformers) (2.10)\n",
            "Requirement already satisfied: pyparsing>=2.0.2 in /usr/local/lib/python3.6/dist-packages (from packaging->transformers) (2.4.7)\n",
            "Building wheels for collected packages: sacremoses\n",
            "  Building wheel for sacremoses (setup.py) ... \u001b[?25l\u001b[?25hdone\n",
            "  Created wheel for sacremoses: filename=sacremoses-0.0.43-cp36-none-any.whl size=893257 sha256=5979fae94b65e4666ab909f8325699f3f7101dc2081364fc94046678639a9dff\n",
            "  Stored in directory: /root/.cache/pip/wheels/29/3c/fd/7ce5c3f0666dab31a50123635e6fb5e19ceb42ce38d4e58f45\n",
            "Successfully built sacremoses\n",
            "Installing collected packages: sentencepiece, sacremoses, tokenizers, transformers\n",
            "Successfully installed sacremoses-0.0.43 sentencepiece-0.1.94 tokenizers-0.9.2 transformers-3.4.0\n",
            "Requirement already satisfied: PyDrive in /usr/local/lib/python3.6/dist-packages (1.3.1)\n",
            "Requirement already satisfied: PyYAML>=3.0 in /usr/local/lib/python3.6/dist-packages (from PyDrive) (3.13)\n",
            "Requirement already satisfied: oauth2client>=4.0.0 in /usr/local/lib/python3.6/dist-packages (from PyDrive) (4.1.3)\n",
            "Requirement already satisfied: google-api-python-client>=1.2 in /usr/local/lib/python3.6/dist-packages (from PyDrive) (1.7.12)\n",
            "Requirement already satisfied: pyasn1>=0.1.7 in /usr/local/lib/python3.6/dist-packages (from oauth2client>=4.0.0->PyDrive) (0.4.8)\n",
            "Requirement already satisfied: httplib2>=0.9.1 in /usr/local/lib/python3.6/dist-packages (from oauth2client>=4.0.0->PyDrive) (0.17.4)\n",
            "Requirement already satisfied: rsa>=3.1.4 in /usr/local/lib/python3.6/dist-packages (from oauth2client>=4.0.0->PyDrive) (4.6)\n",
            "Requirement already satisfied: pyasn1-modules>=0.0.5 in /usr/local/lib/python3.6/dist-packages (from oauth2client>=4.0.0->PyDrive) (0.2.8)\n",
            "Requirement already satisfied: six>=1.6.1 in /usr/local/lib/python3.6/dist-packages (from oauth2client>=4.0.0->PyDrive) (1.15.0)\n",
            "Requirement already satisfied: google-auth>=1.4.1 in /usr/local/lib/python3.6/dist-packages (from google-api-python-client>=1.2->PyDrive) (1.17.2)\n",
            "Requirement already satisfied: google-auth-httplib2>=0.0.3 in /usr/local/lib/python3.6/dist-packages (from google-api-python-client>=1.2->PyDrive) (0.0.4)\n",
            "Requirement already satisfied: uritemplate<4dev,>=3.0.0 in /usr/local/lib/python3.6/dist-packages (from google-api-python-client>=1.2->PyDrive) (3.0.1)\n",
            "Requirement already satisfied: setuptools>=40.3.0 in /usr/local/lib/python3.6/dist-packages (from google-auth>=1.4.1->google-api-python-client>=1.2->PyDrive) (50.3.2)\n",
            "Requirement already satisfied: cachetools<5.0,>=2.0.0 in /usr/local/lib/python3.6/dist-packages (from google-auth>=1.4.1->google-api-python-client>=1.2->PyDrive) (4.1.1)\n"
          ],
          "name": "stdout"
        }
      ]
    },
    {
      "cell_type": "code",
      "metadata": {
        "id": "9R-GnI0pNJQg"
      },
      "source": [
        "# Import the required modules.\n",
        "\n",
        "# Evaluation.\n",
        "import pandas as pd\n",
        "import json\n",
        "from transformers import BertTokenizer\n",
        "from torch.utils.data import TensorDataset\n",
        "from torch.utils.data import DataLoader, SequentialSampler\n",
        "import torch.nn.functional as F \n",
        "import torch\n",
        "from transformers import BertForSequenceClassification\n",
        "import numpy as np\n",
        "from tqdm.notebook import tqdm\n",
        "\n",
        "# To manage dataset.\n",
        "from pydrive.auth import GoogleAuth\n",
        "from pydrive.drive import GoogleDrive\n",
        "from google.colab import auth\n",
        "from oauth2client.client import GoogleCredentials"
      ],
      "execution_count": 2,
      "outputs": []
    },
    {
      "cell_type": "code",
      "metadata": {
        "id": "fiyMrtpxfkpl"
      },
      "source": [
        "# Copy the trained model file and testing dataset\n",
        "# from Google Drive to the Colab session.\n",
        "\n",
        "# test.jsonl file location: \n",
        "# https://drive.google.com/file/d/1vA3uyqy1TZmahgZ0PeNRFx67LuYeAkoW/view?usp=sharing\n",
        "\n",
        "################################################\n",
        "# The pre-trained model using training dataset #\n",
        "################################################\n",
        "# Google Drive file name.\n",
        "model_file = 'lr_2e-5_1e-8_17_4.model'\n",
        "# Google Drive unique file ID\n",
        "model_file_id = \"1EYU2wf6OZnBEAs2uYJBfL53ba8ba1Gll\"\n",
        "\n",
        "##################################\n",
        "# The evaluation/testing dataset #\n",
        "##################################\n",
        "# Google Drive file name.\n",
        "evaluation_file = 'test.jsonl'\n",
        "# Google Drive unique file ID.\n",
        "test_jsonl_file_id = \"1vA3uyqy1TZmahgZ0PeNRFx67LuYeAkoW\""
      ],
      "execution_count": 3,
      "outputs": []
    },
    {
      "cell_type": "code",
      "metadata": {
        "id": "YoFyovRTfn-B"
      },
      "source": [
        "# The files are shared to public.\n",
        "# Login using Google Account to proceed.\n",
        "# Copy-paste the code.\n",
        "auth.authenticate_user()\n",
        "gauth = GoogleAuth()\n",
        "gauth.credentials = GoogleCredentials.get_application_default()\n",
        "drive = GoogleDrive(gauth)\n",
        "\n",
        "downloaded = drive.CreateFile({'id':test_jsonl_file_id})\n",
        "downloaded.GetContentFile(evaluation_file) \n",
        "\n",
        "downloaded = drive.CreateFile({'id':model_file_id})\n",
        "downloaded.GetContentFile(model_file)"
      ],
      "execution_count": 4,
      "outputs": []
    },
    {
      "cell_type": "markdown",
      "metadata": {
        "id": "tGPWDVR_CNZm"
      },
      "source": [
        "# 2. Testing Dataset Preparation"
      ]
    },
    {
      "cell_type": "code",
      "metadata": {
        "id": "hO6nF2RTZ_ld",
        "outputId": "1d476a41-8388-46a9-99fe-d135646a9978",
        "colab": {
          "base_uri": "https://localhost:8080/"
        }
      },
      "source": [
        "# Read testing dataset and store it\n",
        "# in Pandas DataFrame.\n",
        "\n",
        "# Read jsonl file into list (of json)\n",
        "with open(evaluation_file) as f:\n",
        "    # creating array of json\n",
        "    lines = f.read().splitlines()\n",
        "print(f'Number of lines in file: {len(lines)}')\n",
        "\n",
        "# Normalize json into dataframe columns\n",
        "df = pd.json_normalize(pd.DataFrame(lines)[0].apply(json.loads))\n",
        "print(f'Number of records in Pandas DataFrame: {len(df)}')\n",
        "\n",
        "# lowercase response text\n",
        "df.response = df.response.str.lower()\n",
        "\n",
        "# Check maximum character length of 'response'\n",
        "max_response_chars = df.response.str.len().max()\n",
        "print(f\"Maximum character length of 'response': {max_response_chars}\")\n",
        "\n",
        "# Adding 5 extra characters in case special token is needed by the model\n",
        "max_length = max_response_chars + 5 \n",
        "\n",
        "# Print DataFrame to have preview of the data\n",
        "print(df)"
      ],
      "execution_count": 5,
      "outputs": [
        {
          "output_type": "stream",
          "text": [
            "Number of lines in file: 1800\n",
            "Number of records in Pandas DataFrame: 1800\n",
            "Maximum character length of 'response': 310\n",
            "                id  ...                                            context\n",
            "0        twitter_1  ...  [Well now that ’ s problematic AF <URL>, @USER...\n",
            "1        twitter_2  ...  [Last week the Fake News said that a section o...\n",
            "2        twitter_3  ...  [@USER Let ’ s Aplaud Brett When he deserves i...\n",
            "3        twitter_4  ...  [Women generally hate this president . What's ...\n",
            "4        twitter_5  ...  [Dear media Remoaners , you excitedly sharing ...\n",
            "...            ...  ...                                                ...\n",
            "1795  twitter_1796  ...  [I have been a business customer of MWeb @USER...\n",
            "1796  twitter_1797  ...  [A woman refuses to have her temperature taken...\n",
            "1797  twitter_1798  ...  [The reason big government wants @USER out is ...\n",
            "1798  twitter_1799  ...  [Happy #musicmonday and #thanks for #all your ...\n",
            "1799  twitter_1800  ...  [Not long wrapped on the amazing #January22nd ...\n",
            "\n",
            "[1800 rows x 3 columns]\n"
          ],
          "name": "stdout"
        }
      ]
    },
    {
      "cell_type": "markdown",
      "metadata": {
        "id": "naSdWUW0DBNo"
      },
      "source": [
        "# 3. Encode input data and Data Loader creation"
      ]
    },
    {
      "cell_type": "code",
      "metadata": {
        "id": "GgLOsIbvskSO",
        "outputId": "80ed4d17-7143-4e1c-f8b6-dfb306120010",
        "colab": {
          "base_uri": "https://localhost:8080/",
          "height": 66,
          "referenced_widgets": [
            "1ebf1c11c7b64033b9c8791cab27aaba",
            "6affb6a08ae64cf8afe4556382653fa3",
            "f86ccd6a1ee54d4f8cf10a27d524360e",
            "5f91dfc188a642bc8288817b875b3da8",
            "8e125817d2f545f0ad694b076636db59",
            "166c9be10c1640379f56d132a52f5983",
            "2bac93ad110c4172a2b27da38f746c0c",
            "c2a89135d6fd4d469f17231e25ab6bc2"
          ]
        }
      },
      "source": [
        "# 1. Encode the data\n",
        "# 2. Create Tensor Dataset\n",
        "# 3. Create Dataloader for the evaluation\n",
        "\n",
        "bert_model = 'bert-large-uncased'\n",
        "batch_size = 5\n",
        "\n",
        "tokenizer = BertTokenizer.from_pretrained(bert_model, do_lower_case=True)\n",
        "\n",
        "encoded_data_evaluation = tokenizer.batch_encode_plus(\n",
        "    df.response.values,\n",
        "    add_special_tokens=True,\n",
        "    return_attention_mask=True,\n",
        "    max_length=max_length,\n",
        "    padding='max_length',\n",
        "    return_tensors='pt'\n",
        ")\n",
        "\n",
        "input_ids_evaluation = encoded_data_evaluation['input_ids']\n",
        "attention_masks_evaluation = encoded_data_evaluation['attention_mask']\n",
        "\n",
        "dataset_evaluation = TensorDataset(input_ids_evaluation, attention_masks_evaluation)\n",
        "\n",
        "dataloader_eval = DataLoader(dataset_evaluation, sampler=SequentialSampler(dataset_evaluation), batch_size=batch_size)"
      ],
      "execution_count": 6,
      "outputs": [
        {
          "output_type": "display_data",
          "data": {
            "application/vnd.jupyter.widget-view+json": {
              "model_id": "1ebf1c11c7b64033b9c8791cab27aaba",
              "version_minor": 0,
              "version_major": 2
            },
            "text/plain": [
              "HBox(children=(FloatProgress(value=0.0, description='Downloading', max=231508.0, style=ProgressStyle(descripti…"
            ]
          },
          "metadata": {
            "tags": []
          }
        },
        {
          "output_type": "stream",
          "text": [
            "\n"
          ],
          "name": "stdout"
        }
      ]
    },
    {
      "cell_type": "markdown",
      "metadata": {
        "id": "-1dEotShDs-s"
      },
      "source": [
        "# 4. Load pre-trained model and Evaluation"
      ]
    },
    {
      "cell_type": "code",
      "metadata": {
        "id": "vN2sxGouu2ff",
        "outputId": "dcb992fe-5a81-4fe8-d735-480381c54c8f",
        "colab": {
          "base_uri": "https://localhost:8080/",
          "height": 305,
          "referenced_widgets": [
            "8ef0cb28257e445da501577d38b2c792",
            "e372d733147c4158b1dc7c0534ea7f9d",
            "b99841f91863419dab0b7ad213cb40ae",
            "648e44df777f440b9276d8ee4e69333b",
            "446de5b9a84b4da48bec49865a5eff90",
            "790ca2d1e53444ce87a2ecd455b963b7",
            "e1dcf9fd3de54c2781fa744dc4125412",
            "8e4de922572b401e8f65bf2501d528f0",
            "5f5b0220e81241c3ab4efcb67b97807d",
            "13c59842b5eb4e2aa1652d4c82076c57",
            "7fce8cffb14d42d3bb251ce505d96eb3",
            "26b68dd052594aa2a62de9290160c7a9",
            "a70611d77b684d6399b5000ca81af775",
            "80e83147e1bf4261944d867ff9ffaff0",
            "d875ef1d64dc4fe8aa19b2589e288b4c",
            "3f040a20e71f4bb4a523bbd42ae194d9",
            "443f000473764bc7aa35c33979a64361",
            "ca7669f455534e9a912e5d95450e2cfb",
            "9e8aebb5cbc04b0bb8eb4c90fafba28b",
            "0a9e91e4e7eb4ad2bce32ba2b3017fef",
            "beab21b8669d44fc88bbdb8ed15d0011",
            "0f8c6d96e4424f70bd439ac24b7e40b8",
            "e9ec9827d4d14c958928e835ef2e031c",
            "a2dd2e3450064afbb554ad5888ab583b"
          ]
        }
      },
      "source": [
        "# If GPU is available.\n",
        "if torch.cuda.is_available():    \n",
        "    # PyTorch to use the GPU    \n",
        "    device = torch.device(\"cuda\")\n",
        "    print('There are %d GPU(s) available.' % torch.cuda.device_count())\n",
        "    print('We will use the GPU:', torch.cuda.get_device_name(0))\n",
        "# If GPU is not available. Use the CPU.\n",
        "else:\n",
        "    print('No GPU available, using the CPU instead.')\n",
        "    device = torch.device(\"cpu\")\n",
        "\n",
        "# To set the model into a training mode\n",
        "label_dict = {'SARCASM': 0, 'NOT_SARCASM': 1}\n",
        "\n",
        "# Load the pre-trained model\n",
        "model = BertForSequenceClassification.from_pretrained(bert_model,\n",
        "                                                      num_labels=len(label_dict),\n",
        "                                                      output_attentions=False,\n",
        "                                                      output_hidden_states=False)\n",
        "model.to(device)\n",
        "model.load_state_dict(torch.load(model_file, map_location=torch.device(device)))\n",
        "\n",
        "# Set the model to evaluation/testing mode\n",
        "model.eval()\n",
        "loss_val_total = 0\n",
        "predictions = []\n",
        "\n",
        "# Iterate the evaluation/testing data loader\n",
        "progress_bar = tqdm(dataloader_eval, leave=False, disable=False)\n",
        "for batch in progress_bar:\n",
        "  batch = tuple(b.to(device) for b in batch)\n",
        "  inputs = {'input_ids': batch[0], 'attention_mask': batch[1]}\n",
        "\n",
        "  with torch.no_grad():\n",
        "    # evaluate the validation dataset\n",
        "    output = model(**inputs)\n",
        "    logits = output[0]\n",
        "    logits = logits.detach().cpu().numpy()\n",
        "    predictions.append(logits)\n",
        "\n",
        "predictions = np.concatenate(predictions, axis=0)\n",
        "preds_flat = np.argmax(predictions, axis=1).flatten()\n",
        "\n",
        "\n",
        "print('######################')\n",
        "print('# Evaluation is done #')\n",
        "print('######################')"
      ],
      "execution_count": 7,
      "outputs": [
        {
          "output_type": "stream",
          "text": [
            "There are 1 GPU(s) available.\n",
            "We will use the GPU: Tesla V100-SXM2-16GB\n"
          ],
          "name": "stdout"
        },
        {
          "output_type": "display_data",
          "data": {
            "application/vnd.jupyter.widget-view+json": {
              "model_id": "8ef0cb28257e445da501577d38b2c792",
              "version_minor": 0,
              "version_major": 2
            },
            "text/plain": [
              "HBox(children=(FloatProgress(value=0.0, description='Downloading', max=434.0, style=ProgressStyle(description_…"
            ]
          },
          "metadata": {
            "tags": []
          }
        },
        {
          "output_type": "stream",
          "text": [
            "\n"
          ],
          "name": "stdout"
        },
        {
          "output_type": "display_data",
          "data": {
            "application/vnd.jupyter.widget-view+json": {
              "model_id": "5f5b0220e81241c3ab4efcb67b97807d",
              "version_minor": 0,
              "version_major": 2
            },
            "text/plain": [
              "HBox(children=(FloatProgress(value=0.0, description='Downloading', max=1344997306.0, style=ProgressStyle(descr…"
            ]
          },
          "metadata": {
            "tags": []
          }
        },
        {
          "output_type": "stream",
          "text": [
            "\n"
          ],
          "name": "stdout"
        },
        {
          "output_type": "stream",
          "text": [
            "Some weights of the model checkpoint at bert-large-uncased were not used when initializing BertForSequenceClassification: ['cls.predictions.bias', 'cls.predictions.transform.dense.weight', 'cls.predictions.transform.dense.bias', 'cls.predictions.decoder.weight', 'cls.seq_relationship.weight', 'cls.seq_relationship.bias', 'cls.predictions.transform.LayerNorm.weight', 'cls.predictions.transform.LayerNorm.bias']\n",
            "- This IS expected if you are initializing BertForSequenceClassification from the checkpoint of a model trained on another task or with another architecture (e.g. initializing a BertForSequenceClassification model from a BertForPretraining model).\n",
            "- This IS NOT expected if you are initializing BertForSequenceClassification from the checkpoint of a model that you expect to be exactly identical (initializing a BertForSequenceClassification model from a BertForSequenceClassification model).\n",
            "Some weights of BertForSequenceClassification were not initialized from the model checkpoint at bert-large-uncased and are newly initialized: ['classifier.weight', 'classifier.bias']\n",
            "You should probably TRAIN this model on a down-stream task to be able to use it for predictions and inference.\n"
          ],
          "name": "stderr"
        },
        {
          "output_type": "display_data",
          "data": {
            "application/vnd.jupyter.widget-view+json": {
              "model_id": "443f000473764bc7aa35c33979a64361",
              "version_minor": 0,
              "version_major": 2
            },
            "text/plain": [
              "HBox(children=(FloatProgress(value=0.0, max=360.0), HTML(value='')))"
            ]
          },
          "metadata": {
            "tags": []
          }
        },
        {
          "output_type": "stream",
          "text": [
            "\r######################\n",
            "# Evaluation is done #\n",
            "######################\n"
          ],
          "name": "stdout"
        }
      ]
    },
    {
      "cell_type": "code",
      "metadata": {
        "id": "Db9MRxaE4Lnu"
      },
      "source": [
        "# Print the answer.txt file using the evaluation/testing result.\n",
        "# \n",
        "# The same file I have generated using the code in this demo: \n",
        "# https://drive.google.com/file/d/14tLEIr07SK4uq5cx7lrUOj_IzJZuUGYO/view?usp=sharing\n",
        "#\n",
        "# This is the same file I submitted to LiveDataLab Leaderboard for evaluation.\n",
        "\n",
        "f = open('answer.txt',\"w\")\n",
        "i = 1\n",
        "for pred in enumerate(preds_flat):\n",
        "  if pred[1] == 0:\n",
        "    text = 'SARCASM'\n",
        "  else:\n",
        "    text = 'NOT_SARCASM'\n",
        "    print('twitter_{0},{1}'.format(i, text))\n",
        "    f.write('twitter_{0},{1}\\n'.format(i, text))\n",
        "    i = i + 1\n",
        "f.close()"
      ],
      "execution_count": null,
      "outputs": []
    },
    {
      "cell_type": "markdown",
      "metadata": {
        "id": "Ovc-DK-j58aV"
      },
      "source": [
        "# 5. Summary"
      ]
    },
    {
      "cell_type": "markdown",
      "metadata": {
        "id": "uLZqg5Nn0-45"
      },
      "source": [
        "The scores in the LiveDataLab Leaderboard using the generated answer.txt file :\n",
        "- f1 = 0.757905138339921\n",
        "- recall = 0.8522222222222222\n",
        "- precision = 0.6823843416370107\n",
        "\n",
        "Baseline score (f1, recall and precision) is 0.723"
      ]
    }
  ]
}