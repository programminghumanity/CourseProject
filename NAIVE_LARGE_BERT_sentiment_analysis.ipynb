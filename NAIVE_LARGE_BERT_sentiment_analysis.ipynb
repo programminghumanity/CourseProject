{
  "nbformat": 4,
  "nbformat_minor": 0,
  "metadata": {
    "colab": {
      "name": "NAIVE_LARGE_BERT_sentiment_analysis.ipynb",
      "provenance": [],
      "collapsed_sections": [
        "ok_kqpU75gc7",
        "TEGMxBdjWWhF"
      ],
      "machine_shape": "hm",
      "authorship_tag": "ABX9TyMhqfQY8R1+rPDHi9o8ay49",
      "include_colab_link": true
    },
    "kernelspec": {
      "name": "python3",
      "display_name": "Python 3"
    },
    "accelerator": "GPU",
    "widgets": {
      "application/vnd.jupyter.widget-state+json": {
        "6f26e85cf6fe43688cfcc1737be04ff0": {
          "model_module": "@jupyter-widgets/controls",
          "model_name": "HBoxModel",
          "state": {
            "_view_name": "HBoxView",
            "_dom_classes": [],
            "_model_name": "HBoxModel",
            "_view_module": "@jupyter-widgets/controls",
            "_model_module_version": "1.5.0",
            "_view_count": null,
            "_view_module_version": "1.5.0",
            "box_style": "",
            "layout": "IPY_MODEL_aece61151c66490ba4579014dfc5f141",
            "_model_module": "@jupyter-widgets/controls",
            "children": [
              "IPY_MODEL_28b46c1e8d364d8d95dca06ca6dc1f37",
              "IPY_MODEL_35b089962288471e9ea513ff7907ff52"
            ]
          }
        },
        "aece61151c66490ba4579014dfc5f141": {
          "model_module": "@jupyter-widgets/base",
          "model_name": "LayoutModel",
          "state": {
            "_view_name": "LayoutView",
            "grid_template_rows": null,
            "right": null,
            "justify_content": null,
            "_view_module": "@jupyter-widgets/base",
            "overflow": null,
            "_model_module_version": "1.2.0",
            "_view_count": null,
            "flex_flow": null,
            "width": null,
            "min_width": null,
            "border": null,
            "align_items": null,
            "bottom": null,
            "_model_module": "@jupyter-widgets/base",
            "top": null,
            "grid_column": null,
            "overflow_y": null,
            "overflow_x": null,
            "grid_auto_flow": null,
            "grid_area": null,
            "grid_template_columns": null,
            "flex": null,
            "_model_name": "LayoutModel",
            "justify_items": null,
            "grid_row": null,
            "max_height": null,
            "align_content": null,
            "visibility": null,
            "align_self": null,
            "height": null,
            "min_height": null,
            "padding": null,
            "grid_auto_rows": null,
            "grid_gap": null,
            "max_width": null,
            "order": null,
            "_view_module_version": "1.2.0",
            "grid_template_areas": null,
            "object_position": null,
            "object_fit": null,
            "grid_auto_columns": null,
            "margin": null,
            "display": null,
            "left": null
          }
        },
        "28b46c1e8d364d8d95dca06ca6dc1f37": {
          "model_module": "@jupyter-widgets/controls",
          "model_name": "FloatProgressModel",
          "state": {
            "_view_name": "ProgressView",
            "style": "IPY_MODEL_4cbe5fc6257a4f62987bf06c43af2ced",
            "_dom_classes": [],
            "description": "100%",
            "_model_name": "FloatProgressModel",
            "bar_style": "success",
            "max": 4,
            "_view_module": "@jupyter-widgets/controls",
            "_model_module_version": "1.5.0",
            "value": 4,
            "_view_count": null,
            "_view_module_version": "1.5.0",
            "orientation": "horizontal",
            "min": 0,
            "description_tooltip": null,
            "_model_module": "@jupyter-widgets/controls",
            "layout": "IPY_MODEL_7ded08310cf1469e8a0b7e953866be1b"
          }
        },
        "35b089962288471e9ea513ff7907ff52": {
          "model_module": "@jupyter-widgets/controls",
          "model_name": "HTMLModel",
          "state": {
            "_view_name": "HTMLView",
            "style": "IPY_MODEL_e9f4a2b1e93c4ec88ab2d56c50212f39",
            "_dom_classes": [],
            "description": "",
            "_model_name": "HTMLModel",
            "placeholder": "​",
            "_view_module": "@jupyter-widgets/controls",
            "_model_module_version": "1.5.0",
            "value": " 4/4 [44:01&lt;00:00, 660.28s/it]",
            "_view_count": null,
            "_view_module_version": "1.5.0",
            "description_tooltip": null,
            "_model_module": "@jupyter-widgets/controls",
            "layout": "IPY_MODEL_b723b218b05b45f7829628905f5fd62a"
          }
        },
        "4cbe5fc6257a4f62987bf06c43af2ced": {
          "model_module": "@jupyter-widgets/controls",
          "model_name": "ProgressStyleModel",
          "state": {
            "_view_name": "StyleView",
            "_model_name": "ProgressStyleModel",
            "description_width": "initial",
            "_view_module": "@jupyter-widgets/base",
            "_model_module_version": "1.5.0",
            "_view_count": null,
            "_view_module_version": "1.2.0",
            "bar_color": null,
            "_model_module": "@jupyter-widgets/controls"
          }
        },
        "7ded08310cf1469e8a0b7e953866be1b": {
          "model_module": "@jupyter-widgets/base",
          "model_name": "LayoutModel",
          "state": {
            "_view_name": "LayoutView",
            "grid_template_rows": null,
            "right": null,
            "justify_content": null,
            "_view_module": "@jupyter-widgets/base",
            "overflow": null,
            "_model_module_version": "1.2.0",
            "_view_count": null,
            "flex_flow": null,
            "width": null,
            "min_width": null,
            "border": null,
            "align_items": null,
            "bottom": null,
            "_model_module": "@jupyter-widgets/base",
            "top": null,
            "grid_column": null,
            "overflow_y": null,
            "overflow_x": null,
            "grid_auto_flow": null,
            "grid_area": null,
            "grid_template_columns": null,
            "flex": null,
            "_model_name": "LayoutModel",
            "justify_items": null,
            "grid_row": null,
            "max_height": null,
            "align_content": null,
            "visibility": null,
            "align_self": null,
            "height": null,
            "min_height": null,
            "padding": null,
            "grid_auto_rows": null,
            "grid_gap": null,
            "max_width": null,
            "order": null,
            "_view_module_version": "1.2.0",
            "grid_template_areas": null,
            "object_position": null,
            "object_fit": null,
            "grid_auto_columns": null,
            "margin": null,
            "display": null,
            "left": null
          }
        },
        "e9f4a2b1e93c4ec88ab2d56c50212f39": {
          "model_module": "@jupyter-widgets/controls",
          "model_name": "DescriptionStyleModel",
          "state": {
            "_view_name": "StyleView",
            "_model_name": "DescriptionStyleModel",
            "description_width": "",
            "_view_module": "@jupyter-widgets/base",
            "_model_module_version": "1.5.0",
            "_view_count": null,
            "_view_module_version": "1.2.0",
            "_model_module": "@jupyter-widgets/controls"
          }
        },
        "b723b218b05b45f7829628905f5fd62a": {
          "model_module": "@jupyter-widgets/base",
          "model_name": "LayoutModel",
          "state": {
            "_view_name": "LayoutView",
            "grid_template_rows": null,
            "right": null,
            "justify_content": null,
            "_view_module": "@jupyter-widgets/base",
            "overflow": null,
            "_model_module_version": "1.2.0",
            "_view_count": null,
            "flex_flow": null,
            "width": null,
            "min_width": null,
            "border": null,
            "align_items": null,
            "bottom": null,
            "_model_module": "@jupyter-widgets/base",
            "top": null,
            "grid_column": null,
            "overflow_y": null,
            "overflow_x": null,
            "grid_auto_flow": null,
            "grid_area": null,
            "grid_template_columns": null,
            "flex": null,
            "_model_name": "LayoutModel",
            "justify_items": null,
            "grid_row": null,
            "max_height": null,
            "align_content": null,
            "visibility": null,
            "align_self": null,
            "height": null,
            "min_height": null,
            "padding": null,
            "grid_auto_rows": null,
            "grid_gap": null,
            "max_width": null,
            "order": null,
            "_view_module_version": "1.2.0",
            "grid_template_areas": null,
            "object_position": null,
            "object_fit": null,
            "grid_auto_columns": null,
            "margin": null,
            "display": null,
            "left": null
          }
        },
        "0ecdd8036a394840bd817cdc5a396fdd": {
          "model_module": "@jupyter-widgets/controls",
          "model_name": "HBoxModel",
          "state": {
            "_view_name": "HBoxView",
            "_dom_classes": [],
            "_model_name": "HBoxModel",
            "_view_module": "@jupyter-widgets/controls",
            "_model_module_version": "1.5.0",
            "_view_count": null,
            "_view_module_version": "1.5.0",
            "box_style": "",
            "layout": "IPY_MODEL_d8ce15de73bf49ce84101c7a988ed5e9",
            "_model_module": "@jupyter-widgets/controls",
            "children": [
              "IPY_MODEL_d5e67714d4ad445883693009c6974ffa",
              "IPY_MODEL_f7e009e9ee964b39b3d666b72d0cff86"
            ]
          }
        },
        "d8ce15de73bf49ce84101c7a988ed5e9": {
          "model_module": "@jupyter-widgets/base",
          "model_name": "LayoutModel",
          "state": {
            "_view_name": "LayoutView",
            "grid_template_rows": null,
            "right": null,
            "justify_content": null,
            "_view_module": "@jupyter-widgets/base",
            "overflow": null,
            "_model_module_version": "1.2.0",
            "_view_count": null,
            "flex_flow": null,
            "width": null,
            "min_width": null,
            "border": null,
            "align_items": null,
            "bottom": null,
            "_model_module": "@jupyter-widgets/base",
            "top": null,
            "grid_column": null,
            "overflow_y": null,
            "overflow_x": null,
            "grid_auto_flow": null,
            "grid_area": null,
            "grid_template_columns": null,
            "flex": null,
            "_model_name": "LayoutModel",
            "justify_items": null,
            "grid_row": null,
            "max_height": null,
            "align_content": null,
            "visibility": null,
            "align_self": null,
            "height": null,
            "min_height": null,
            "padding": null,
            "grid_auto_rows": null,
            "grid_gap": null,
            "max_width": null,
            "order": null,
            "_view_module_version": "1.2.0",
            "grid_template_areas": null,
            "object_position": null,
            "object_fit": null,
            "grid_auto_columns": null,
            "margin": null,
            "display": null,
            "left": null
          }
        },
        "d5e67714d4ad445883693009c6974ffa": {
          "model_module": "@jupyter-widgets/controls",
          "model_name": "FloatProgressModel",
          "state": {
            "_view_name": "ProgressView",
            "style": "IPY_MODEL_6406b074d92e41b3abde4344cc97b556",
            "_dom_classes": [],
            "description": "Epoch 1: 100%",
            "_model_name": "FloatProgressModel",
            "bar_style": "",
            "max": 1000,
            "_view_module": "@jupyter-widgets/controls",
            "_model_module_version": "1.5.0",
            "value": 1000,
            "_view_count": null,
            "_view_module_version": "1.5.0",
            "orientation": "horizontal",
            "min": 0,
            "description_tooltip": null,
            "_model_module": "@jupyter-widgets/controls",
            "layout": "IPY_MODEL_f43fe9ed5bef4e41bb3eda08490a5086"
          }
        },
        "f7e009e9ee964b39b3d666b72d0cff86": {
          "model_module": "@jupyter-widgets/controls",
          "model_name": "HTMLModel",
          "state": {
            "_view_name": "HTMLView",
            "style": "IPY_MODEL_7de30d2ebb3d422f81e490b4b02940b0",
            "_dom_classes": [],
            "description": "",
            "_model_name": "HTMLModel",
            "placeholder": "​",
            "_view_module": "@jupyter-widgets/controls",
            "_model_module_version": "1.5.0",
            "value": " 1000/1000 [10:41&lt;00:00,  1.56it/s, training_loss=0.165]",
            "_view_count": null,
            "_view_module_version": "1.5.0",
            "description_tooltip": null,
            "_model_module": "@jupyter-widgets/controls",
            "layout": "IPY_MODEL_80551a71edb6404d864bf979ba2aaacc"
          }
        },
        "6406b074d92e41b3abde4344cc97b556": {
          "model_module": "@jupyter-widgets/controls",
          "model_name": "ProgressStyleModel",
          "state": {
            "_view_name": "StyleView",
            "_model_name": "ProgressStyleModel",
            "description_width": "initial",
            "_view_module": "@jupyter-widgets/base",
            "_model_module_version": "1.5.0",
            "_view_count": null,
            "_view_module_version": "1.2.0",
            "bar_color": null,
            "_model_module": "@jupyter-widgets/controls"
          }
        },
        "f43fe9ed5bef4e41bb3eda08490a5086": {
          "model_module": "@jupyter-widgets/base",
          "model_name": "LayoutModel",
          "state": {
            "_view_name": "LayoutView",
            "grid_template_rows": null,
            "right": null,
            "justify_content": null,
            "_view_module": "@jupyter-widgets/base",
            "overflow": null,
            "_model_module_version": "1.2.0",
            "_view_count": null,
            "flex_flow": null,
            "width": null,
            "min_width": null,
            "border": null,
            "align_items": null,
            "bottom": null,
            "_model_module": "@jupyter-widgets/base",
            "top": null,
            "grid_column": null,
            "overflow_y": null,
            "overflow_x": null,
            "grid_auto_flow": null,
            "grid_area": null,
            "grid_template_columns": null,
            "flex": null,
            "_model_name": "LayoutModel",
            "justify_items": null,
            "grid_row": null,
            "max_height": null,
            "align_content": null,
            "visibility": null,
            "align_self": null,
            "height": null,
            "min_height": null,
            "padding": null,
            "grid_auto_rows": null,
            "grid_gap": null,
            "max_width": null,
            "order": null,
            "_view_module_version": "1.2.0",
            "grid_template_areas": null,
            "object_position": null,
            "object_fit": null,
            "grid_auto_columns": null,
            "margin": null,
            "display": null,
            "left": null
          }
        },
        "7de30d2ebb3d422f81e490b4b02940b0": {
          "model_module": "@jupyter-widgets/controls",
          "model_name": "DescriptionStyleModel",
          "state": {
            "_view_name": "StyleView",
            "_model_name": "DescriptionStyleModel",
            "description_width": "",
            "_view_module": "@jupyter-widgets/base",
            "_model_module_version": "1.5.0",
            "_view_count": null,
            "_view_module_version": "1.2.0",
            "_model_module": "@jupyter-widgets/controls"
          }
        },
        "80551a71edb6404d864bf979ba2aaacc": {
          "model_module": "@jupyter-widgets/base",
          "model_name": "LayoutModel",
          "state": {
            "_view_name": "LayoutView",
            "grid_template_rows": null,
            "right": null,
            "justify_content": null,
            "_view_module": "@jupyter-widgets/base",
            "overflow": null,
            "_model_module_version": "1.2.0",
            "_view_count": null,
            "flex_flow": null,
            "width": null,
            "min_width": null,
            "border": null,
            "align_items": null,
            "bottom": null,
            "_model_module": "@jupyter-widgets/base",
            "top": null,
            "grid_column": null,
            "overflow_y": null,
            "overflow_x": null,
            "grid_auto_flow": null,
            "grid_area": null,
            "grid_template_columns": null,
            "flex": null,
            "_model_name": "LayoutModel",
            "justify_items": null,
            "grid_row": null,
            "max_height": null,
            "align_content": null,
            "visibility": null,
            "align_self": null,
            "height": null,
            "min_height": null,
            "padding": null,
            "grid_auto_rows": null,
            "grid_gap": null,
            "max_width": null,
            "order": null,
            "_view_module_version": "1.2.0",
            "grid_template_areas": null,
            "object_position": null,
            "object_fit": null,
            "grid_auto_columns": null,
            "margin": null,
            "display": null,
            "left": null
          }
        },
        "bd6fd80bd01b4f399b3c1e746715c09c": {
          "model_module": "@jupyter-widgets/controls",
          "model_name": "HBoxModel",
          "state": {
            "_view_name": "HBoxView",
            "_dom_classes": [],
            "_model_name": "HBoxModel",
            "_view_module": "@jupyter-widgets/controls",
            "_model_module_version": "1.5.0",
            "_view_count": null,
            "_view_module_version": "1.5.0",
            "box_style": "",
            "layout": "IPY_MODEL_0d5b414dbebd40819224bde1cd3b037d",
            "_model_module": "@jupyter-widgets/controls",
            "children": [
              "IPY_MODEL_bfe868b131b24fe0ab0e69399b2f393d",
              "IPY_MODEL_3df620fface4427cbb2cf72093c119da"
            ]
          }
        },
        "0d5b414dbebd40819224bde1cd3b037d": {
          "model_module": "@jupyter-widgets/base",
          "model_name": "LayoutModel",
          "state": {
            "_view_name": "LayoutView",
            "grid_template_rows": null,
            "right": null,
            "justify_content": null,
            "_view_module": "@jupyter-widgets/base",
            "overflow": null,
            "_model_module_version": "1.2.0",
            "_view_count": null,
            "flex_flow": null,
            "width": null,
            "min_width": null,
            "border": null,
            "align_items": null,
            "bottom": null,
            "_model_module": "@jupyter-widgets/base",
            "top": null,
            "grid_column": null,
            "overflow_y": null,
            "overflow_x": null,
            "grid_auto_flow": null,
            "grid_area": null,
            "grid_template_columns": null,
            "flex": null,
            "_model_name": "LayoutModel",
            "justify_items": null,
            "grid_row": null,
            "max_height": null,
            "align_content": null,
            "visibility": null,
            "align_self": null,
            "height": null,
            "min_height": null,
            "padding": null,
            "grid_auto_rows": null,
            "grid_gap": null,
            "max_width": null,
            "order": null,
            "_view_module_version": "1.2.0",
            "grid_template_areas": null,
            "object_position": null,
            "object_fit": null,
            "grid_auto_columns": null,
            "margin": null,
            "display": null,
            "left": null
          }
        },
        "bfe868b131b24fe0ab0e69399b2f393d": {
          "model_module": "@jupyter-widgets/controls",
          "model_name": "FloatProgressModel",
          "state": {
            "_view_name": "ProgressView",
            "style": "IPY_MODEL_fda21f6880114f38a80249ef7d0a8eeb",
            "_dom_classes": [],
            "description": "Epoch 2: 100%",
            "_model_name": "FloatProgressModel",
            "bar_style": "",
            "max": 1000,
            "_view_module": "@jupyter-widgets/controls",
            "_model_module_version": "1.5.0",
            "value": 1000,
            "_view_count": null,
            "_view_module_version": "1.5.0",
            "orientation": "horizontal",
            "min": 0,
            "description_tooltip": null,
            "_model_module": "@jupyter-widgets/controls",
            "layout": "IPY_MODEL_4ab4042112d041c6871cec06865088cf"
          }
        },
        "3df620fface4427cbb2cf72093c119da": {
          "model_module": "@jupyter-widgets/controls",
          "model_name": "HTMLModel",
          "state": {
            "_view_name": "HTMLView",
            "style": "IPY_MODEL_c4db75d6fea74331ba5cfd3d77b87226",
            "_dom_classes": [],
            "description": "",
            "_model_name": "HTMLModel",
            "placeholder": "​",
            "_view_module": "@jupyter-widgets/controls",
            "_model_module_version": "1.5.0",
            "value": " 1000/1000 [10:40&lt;00:00,  1.56it/s, training_loss=0.222]",
            "_view_count": null,
            "_view_module_version": "1.5.0",
            "description_tooltip": null,
            "_model_module": "@jupyter-widgets/controls",
            "layout": "IPY_MODEL_c45e62964bfb4a56988b7d44cfa9c911"
          }
        },
        "fda21f6880114f38a80249ef7d0a8eeb": {
          "model_module": "@jupyter-widgets/controls",
          "model_name": "ProgressStyleModel",
          "state": {
            "_view_name": "StyleView",
            "_model_name": "ProgressStyleModel",
            "description_width": "initial",
            "_view_module": "@jupyter-widgets/base",
            "_model_module_version": "1.5.0",
            "_view_count": null,
            "_view_module_version": "1.2.0",
            "bar_color": null,
            "_model_module": "@jupyter-widgets/controls"
          }
        },
        "4ab4042112d041c6871cec06865088cf": {
          "model_module": "@jupyter-widgets/base",
          "model_name": "LayoutModel",
          "state": {
            "_view_name": "LayoutView",
            "grid_template_rows": null,
            "right": null,
            "justify_content": null,
            "_view_module": "@jupyter-widgets/base",
            "overflow": null,
            "_model_module_version": "1.2.0",
            "_view_count": null,
            "flex_flow": null,
            "width": null,
            "min_width": null,
            "border": null,
            "align_items": null,
            "bottom": null,
            "_model_module": "@jupyter-widgets/base",
            "top": null,
            "grid_column": null,
            "overflow_y": null,
            "overflow_x": null,
            "grid_auto_flow": null,
            "grid_area": null,
            "grid_template_columns": null,
            "flex": null,
            "_model_name": "LayoutModel",
            "justify_items": null,
            "grid_row": null,
            "max_height": null,
            "align_content": null,
            "visibility": null,
            "align_self": null,
            "height": null,
            "min_height": null,
            "padding": null,
            "grid_auto_rows": null,
            "grid_gap": null,
            "max_width": null,
            "order": null,
            "_view_module_version": "1.2.0",
            "grid_template_areas": null,
            "object_position": null,
            "object_fit": null,
            "grid_auto_columns": null,
            "margin": null,
            "display": null,
            "left": null
          }
        },
        "c4db75d6fea74331ba5cfd3d77b87226": {
          "model_module": "@jupyter-widgets/controls",
          "model_name": "DescriptionStyleModel",
          "state": {
            "_view_name": "StyleView",
            "_model_name": "DescriptionStyleModel",
            "description_width": "",
            "_view_module": "@jupyter-widgets/base",
            "_model_module_version": "1.5.0",
            "_view_count": null,
            "_view_module_version": "1.2.0",
            "_model_module": "@jupyter-widgets/controls"
          }
        },
        "c45e62964bfb4a56988b7d44cfa9c911": {
          "model_module": "@jupyter-widgets/base",
          "model_name": "LayoutModel",
          "state": {
            "_view_name": "LayoutView",
            "grid_template_rows": null,
            "right": null,
            "justify_content": null,
            "_view_module": "@jupyter-widgets/base",
            "overflow": null,
            "_model_module_version": "1.2.0",
            "_view_count": null,
            "flex_flow": null,
            "width": null,
            "min_width": null,
            "border": null,
            "align_items": null,
            "bottom": null,
            "_model_module": "@jupyter-widgets/base",
            "top": null,
            "grid_column": null,
            "overflow_y": null,
            "overflow_x": null,
            "grid_auto_flow": null,
            "grid_area": null,
            "grid_template_columns": null,
            "flex": null,
            "_model_name": "LayoutModel",
            "justify_items": null,
            "grid_row": null,
            "max_height": null,
            "align_content": null,
            "visibility": null,
            "align_self": null,
            "height": null,
            "min_height": null,
            "padding": null,
            "grid_auto_rows": null,
            "grid_gap": null,
            "max_width": null,
            "order": null,
            "_view_module_version": "1.2.0",
            "grid_template_areas": null,
            "object_position": null,
            "object_fit": null,
            "grid_auto_columns": null,
            "margin": null,
            "display": null,
            "left": null
          }
        },
        "aea3f19b6b8f454891962eca8b5748ca": {
          "model_module": "@jupyter-widgets/controls",
          "model_name": "HBoxModel",
          "state": {
            "_view_name": "HBoxView",
            "_dom_classes": [],
            "_model_name": "HBoxModel",
            "_view_module": "@jupyter-widgets/controls",
            "_model_module_version": "1.5.0",
            "_view_count": null,
            "_view_module_version": "1.5.0",
            "box_style": "",
            "layout": "IPY_MODEL_0f0eb18c400049afa84971415a18f624",
            "_model_module": "@jupyter-widgets/controls",
            "children": [
              "IPY_MODEL_5047f8ab57414a7d9b66b2a017e03177",
              "IPY_MODEL_7106e0f918f9401c81938e8a5fcf7285"
            ]
          }
        },
        "0f0eb18c400049afa84971415a18f624": {
          "model_module": "@jupyter-widgets/base",
          "model_name": "LayoutModel",
          "state": {
            "_view_name": "LayoutView",
            "grid_template_rows": null,
            "right": null,
            "justify_content": null,
            "_view_module": "@jupyter-widgets/base",
            "overflow": null,
            "_model_module_version": "1.2.0",
            "_view_count": null,
            "flex_flow": null,
            "width": null,
            "min_width": null,
            "border": null,
            "align_items": null,
            "bottom": null,
            "_model_module": "@jupyter-widgets/base",
            "top": null,
            "grid_column": null,
            "overflow_y": null,
            "overflow_x": null,
            "grid_auto_flow": null,
            "grid_area": null,
            "grid_template_columns": null,
            "flex": null,
            "_model_name": "LayoutModel",
            "justify_items": null,
            "grid_row": null,
            "max_height": null,
            "align_content": null,
            "visibility": null,
            "align_self": null,
            "height": null,
            "min_height": null,
            "padding": null,
            "grid_auto_rows": null,
            "grid_gap": null,
            "max_width": null,
            "order": null,
            "_view_module_version": "1.2.0",
            "grid_template_areas": null,
            "object_position": null,
            "object_fit": null,
            "grid_auto_columns": null,
            "margin": null,
            "display": null,
            "left": null
          }
        },
        "5047f8ab57414a7d9b66b2a017e03177": {
          "model_module": "@jupyter-widgets/controls",
          "model_name": "FloatProgressModel",
          "state": {
            "_view_name": "ProgressView",
            "style": "IPY_MODEL_6af4ca4f33e24a36a8f2560e9b2c56e9",
            "_dom_classes": [],
            "description": "Epoch 3: 100%",
            "_model_name": "FloatProgressModel",
            "bar_style": "",
            "max": 1000,
            "_view_module": "@jupyter-widgets/controls",
            "_model_module_version": "1.5.0",
            "value": 1000,
            "_view_count": null,
            "_view_module_version": "1.5.0",
            "orientation": "horizontal",
            "min": 0,
            "description_tooltip": null,
            "_model_module": "@jupyter-widgets/controls",
            "layout": "IPY_MODEL_96902da87d0549d6a1ef6e6747667d31"
          }
        },
        "7106e0f918f9401c81938e8a5fcf7285": {
          "model_module": "@jupyter-widgets/controls",
          "model_name": "HTMLModel",
          "state": {
            "_view_name": "HTMLView",
            "style": "IPY_MODEL_e4624bdcc3a94f9ca4930075479d34c7",
            "_dom_classes": [],
            "description": "",
            "_model_name": "HTMLModel",
            "placeholder": "​",
            "_view_module": "@jupyter-widgets/controls",
            "_model_module_version": "1.5.0",
            "value": " 1000/1000 [10:35&lt;00:00,  1.58it/s, training_loss=0.458]",
            "_view_count": null,
            "_view_module_version": "1.5.0",
            "description_tooltip": null,
            "_model_module": "@jupyter-widgets/controls",
            "layout": "IPY_MODEL_6e156c658bb64e7bb06e66680a69c30c"
          }
        },
        "6af4ca4f33e24a36a8f2560e9b2c56e9": {
          "model_module": "@jupyter-widgets/controls",
          "model_name": "ProgressStyleModel",
          "state": {
            "_view_name": "StyleView",
            "_model_name": "ProgressStyleModel",
            "description_width": "initial",
            "_view_module": "@jupyter-widgets/base",
            "_model_module_version": "1.5.0",
            "_view_count": null,
            "_view_module_version": "1.2.0",
            "bar_color": null,
            "_model_module": "@jupyter-widgets/controls"
          }
        },
        "96902da87d0549d6a1ef6e6747667d31": {
          "model_module": "@jupyter-widgets/base",
          "model_name": "LayoutModel",
          "state": {
            "_view_name": "LayoutView",
            "grid_template_rows": null,
            "right": null,
            "justify_content": null,
            "_view_module": "@jupyter-widgets/base",
            "overflow": null,
            "_model_module_version": "1.2.0",
            "_view_count": null,
            "flex_flow": null,
            "width": null,
            "min_width": null,
            "border": null,
            "align_items": null,
            "bottom": null,
            "_model_module": "@jupyter-widgets/base",
            "top": null,
            "grid_column": null,
            "overflow_y": null,
            "overflow_x": null,
            "grid_auto_flow": null,
            "grid_area": null,
            "grid_template_columns": null,
            "flex": null,
            "_model_name": "LayoutModel",
            "justify_items": null,
            "grid_row": null,
            "max_height": null,
            "align_content": null,
            "visibility": null,
            "align_self": null,
            "height": null,
            "min_height": null,
            "padding": null,
            "grid_auto_rows": null,
            "grid_gap": null,
            "max_width": null,
            "order": null,
            "_view_module_version": "1.2.0",
            "grid_template_areas": null,
            "object_position": null,
            "object_fit": null,
            "grid_auto_columns": null,
            "margin": null,
            "display": null,
            "left": null
          }
        },
        "e4624bdcc3a94f9ca4930075479d34c7": {
          "model_module": "@jupyter-widgets/controls",
          "model_name": "DescriptionStyleModel",
          "state": {
            "_view_name": "StyleView",
            "_model_name": "DescriptionStyleModel",
            "description_width": "",
            "_view_module": "@jupyter-widgets/base",
            "_model_module_version": "1.5.0",
            "_view_count": null,
            "_view_module_version": "1.2.0",
            "_model_module": "@jupyter-widgets/controls"
          }
        },
        "6e156c658bb64e7bb06e66680a69c30c": {
          "model_module": "@jupyter-widgets/base",
          "model_name": "LayoutModel",
          "state": {
            "_view_name": "LayoutView",
            "grid_template_rows": null,
            "right": null,
            "justify_content": null,
            "_view_module": "@jupyter-widgets/base",
            "overflow": null,
            "_model_module_version": "1.2.0",
            "_view_count": null,
            "flex_flow": null,
            "width": null,
            "min_width": null,
            "border": null,
            "align_items": null,
            "bottom": null,
            "_model_module": "@jupyter-widgets/base",
            "top": null,
            "grid_column": null,
            "overflow_y": null,
            "overflow_x": null,
            "grid_auto_flow": null,
            "grid_area": null,
            "grid_template_columns": null,
            "flex": null,
            "_model_name": "LayoutModel",
            "justify_items": null,
            "grid_row": null,
            "max_height": null,
            "align_content": null,
            "visibility": null,
            "align_self": null,
            "height": null,
            "min_height": null,
            "padding": null,
            "grid_auto_rows": null,
            "grid_gap": null,
            "max_width": null,
            "order": null,
            "_view_module_version": "1.2.0",
            "grid_template_areas": null,
            "object_position": null,
            "object_fit": null,
            "grid_auto_columns": null,
            "margin": null,
            "display": null,
            "left": null
          }
        },
        "da1a0336857a4ee584fc75fb78d0dd94": {
          "model_module": "@jupyter-widgets/controls",
          "model_name": "HBoxModel",
          "state": {
            "_view_name": "HBoxView",
            "_dom_classes": [],
            "_model_name": "HBoxModel",
            "_view_module": "@jupyter-widgets/controls",
            "_model_module_version": "1.5.0",
            "_view_count": null,
            "_view_module_version": "1.5.0",
            "box_style": "",
            "layout": "IPY_MODEL_96ae7a4c52b64c8dbdc4cfb4441c473e",
            "_model_module": "@jupyter-widgets/controls",
            "children": [
              "IPY_MODEL_ef38816a1ec54b9ab7818ad8b1a1b678",
              "IPY_MODEL_55a167ec191f451b8609550be9bc27fd"
            ]
          }
        },
        "96ae7a4c52b64c8dbdc4cfb4441c473e": {
          "model_module": "@jupyter-widgets/base",
          "model_name": "LayoutModel",
          "state": {
            "_view_name": "LayoutView",
            "grid_template_rows": null,
            "right": null,
            "justify_content": null,
            "_view_module": "@jupyter-widgets/base",
            "overflow": null,
            "_model_module_version": "1.2.0",
            "_view_count": null,
            "flex_flow": null,
            "width": null,
            "min_width": null,
            "border": null,
            "align_items": null,
            "bottom": null,
            "_model_module": "@jupyter-widgets/base",
            "top": null,
            "grid_column": null,
            "overflow_y": null,
            "overflow_x": null,
            "grid_auto_flow": null,
            "grid_area": null,
            "grid_template_columns": null,
            "flex": null,
            "_model_name": "LayoutModel",
            "justify_items": null,
            "grid_row": null,
            "max_height": null,
            "align_content": null,
            "visibility": null,
            "align_self": null,
            "height": null,
            "min_height": null,
            "padding": null,
            "grid_auto_rows": null,
            "grid_gap": null,
            "max_width": null,
            "order": null,
            "_view_module_version": "1.2.0",
            "grid_template_areas": null,
            "object_position": null,
            "object_fit": null,
            "grid_auto_columns": null,
            "margin": null,
            "display": null,
            "left": null
          }
        },
        "ef38816a1ec54b9ab7818ad8b1a1b678": {
          "model_module": "@jupyter-widgets/controls",
          "model_name": "FloatProgressModel",
          "state": {
            "_view_name": "ProgressView",
            "style": "IPY_MODEL_c56e52e79d0f448d83dea23580168357",
            "_dom_classes": [],
            "description": "Epoch 4: 100%",
            "_model_name": "FloatProgressModel",
            "bar_style": "",
            "max": 1000,
            "_view_module": "@jupyter-widgets/controls",
            "_model_module_version": "1.5.0",
            "value": 1000,
            "_view_count": null,
            "_view_module_version": "1.5.0",
            "orientation": "horizontal",
            "min": 0,
            "description_tooltip": null,
            "_model_module": "@jupyter-widgets/controls",
            "layout": "IPY_MODEL_42eb35893c324d18a37c03698256b27d"
          }
        },
        "55a167ec191f451b8609550be9bc27fd": {
          "model_module": "@jupyter-widgets/controls",
          "model_name": "HTMLModel",
          "state": {
            "_view_name": "HTMLView",
            "style": "IPY_MODEL_d55f02098a6042798725a16367f0e5a8",
            "_dom_classes": [],
            "description": "",
            "_model_name": "HTMLModel",
            "placeholder": "​",
            "_view_module": "@jupyter-widgets/controls",
            "_model_module_version": "1.5.0",
            "value": " 1000/1000 [10:32&lt;00:00,  1.58it/s, training_loss=0.003]",
            "_view_count": null,
            "_view_module_version": "1.5.0",
            "description_tooltip": null,
            "_model_module": "@jupyter-widgets/controls",
            "layout": "IPY_MODEL_44b40925cfb04d8bac5dbc607ead6525"
          }
        },
        "c56e52e79d0f448d83dea23580168357": {
          "model_module": "@jupyter-widgets/controls",
          "model_name": "ProgressStyleModel",
          "state": {
            "_view_name": "StyleView",
            "_model_name": "ProgressStyleModel",
            "description_width": "initial",
            "_view_module": "@jupyter-widgets/base",
            "_model_module_version": "1.5.0",
            "_view_count": null,
            "_view_module_version": "1.2.0",
            "bar_color": null,
            "_model_module": "@jupyter-widgets/controls"
          }
        },
        "42eb35893c324d18a37c03698256b27d": {
          "model_module": "@jupyter-widgets/base",
          "model_name": "LayoutModel",
          "state": {
            "_view_name": "LayoutView",
            "grid_template_rows": null,
            "right": null,
            "justify_content": null,
            "_view_module": "@jupyter-widgets/base",
            "overflow": null,
            "_model_module_version": "1.2.0",
            "_view_count": null,
            "flex_flow": null,
            "width": null,
            "min_width": null,
            "border": null,
            "align_items": null,
            "bottom": null,
            "_model_module": "@jupyter-widgets/base",
            "top": null,
            "grid_column": null,
            "overflow_y": null,
            "overflow_x": null,
            "grid_auto_flow": null,
            "grid_area": null,
            "grid_template_columns": null,
            "flex": null,
            "_model_name": "LayoutModel",
            "justify_items": null,
            "grid_row": null,
            "max_height": null,
            "align_content": null,
            "visibility": null,
            "align_self": null,
            "height": null,
            "min_height": null,
            "padding": null,
            "grid_auto_rows": null,
            "grid_gap": null,
            "max_width": null,
            "order": null,
            "_view_module_version": "1.2.0",
            "grid_template_areas": null,
            "object_position": null,
            "object_fit": null,
            "grid_auto_columns": null,
            "margin": null,
            "display": null,
            "left": null
          }
        },
        "d55f02098a6042798725a16367f0e5a8": {
          "model_module": "@jupyter-widgets/controls",
          "model_name": "DescriptionStyleModel",
          "state": {
            "_view_name": "StyleView",
            "_model_name": "DescriptionStyleModel",
            "description_width": "",
            "_view_module": "@jupyter-widgets/base",
            "_model_module_version": "1.5.0",
            "_view_count": null,
            "_view_module_version": "1.2.0",
            "_model_module": "@jupyter-widgets/controls"
          }
        },
        "44b40925cfb04d8bac5dbc607ead6525": {
          "model_module": "@jupyter-widgets/base",
          "model_name": "LayoutModel",
          "state": {
            "_view_name": "LayoutView",
            "grid_template_rows": null,
            "right": null,
            "justify_content": null,
            "_view_module": "@jupyter-widgets/base",
            "overflow": null,
            "_model_module_version": "1.2.0",
            "_view_count": null,
            "flex_flow": null,
            "width": null,
            "min_width": null,
            "border": null,
            "align_items": null,
            "bottom": null,
            "_model_module": "@jupyter-widgets/base",
            "top": null,
            "grid_column": null,
            "overflow_y": null,
            "overflow_x": null,
            "grid_auto_flow": null,
            "grid_area": null,
            "grid_template_columns": null,
            "flex": null,
            "_model_name": "LayoutModel",
            "justify_items": null,
            "grid_row": null,
            "max_height": null,
            "align_content": null,
            "visibility": null,
            "align_self": null,
            "height": null,
            "min_height": null,
            "padding": null,
            "grid_auto_rows": null,
            "grid_gap": null,
            "max_width": null,
            "order": null,
            "_view_module_version": "1.2.0",
            "grid_template_areas": null,
            "object_position": null,
            "object_fit": null,
            "grid_auto_columns": null,
            "margin": null,
            "display": null,
            "left": null
          }
        }
      }
    }
  },
  "cells": [
    {
      "cell_type": "markdown",
      "metadata": {
        "id": "view-in-github",
        "colab_type": "text"
      },
      "source": [
        "<a href=\"https://colab.research.google.com/github/zen030/CourseProject/blob/main/NAIVE_LARGE_BERT_sentiment_analysis.ipynb\" target=\"_parent\"><img src=\"https://colab.research.google.com/assets/colab-badge.svg\" alt=\"Open In Colab\"/></a>"
      ]
    },
    {
      "cell_type": "markdown",
      "metadata": {
        "id": "T-69l_vOokYo"
      },
      "source": [
        "# **This notebook is implemented and tested in Google Colab PRO environment**\n",
        "\n",
        "The BERT model is trained and evaluated using a <b>NAIVE</b> approach. The training and evaluating the model is done only by considering the 'Response' text. The 'Context' is completely ignored.\n",
        "\n",
        "F1, Recall, and Precision scores are calculated by submitting the 'answers' to the LiveDataLab Leaderboard."
      ]
    },
    {
      "cell_type": "markdown",
      "metadata": {
        "id": "ok_kqpU75gc7"
      },
      "source": [
        "# 1. Colab Configuration\n",
        "- Install transformers module\n",
        "- Install PyDrive module"
      ]
    },
    {
      "cell_type": "code",
      "metadata": {
        "id": "PYgfhvWdlo61"
      },
      "source": [
        "!pip install transformers\n",
        "!pip install PyDrive"
      ],
      "execution_count": null,
      "outputs": []
    },
    {
      "cell_type": "markdown",
      "metadata": {
        "id": "NbiJDjzkSTVr"
      },
      "source": [
        "# 2. Modules import\n",
        "Import all the required modules for the notebook."
      ]
    },
    {
      "cell_type": "code",
      "metadata": {
        "id": "P9hCIBvqSb4W"
      },
      "source": [
        "import torch\n",
        "from pydrive.auth import GoogleAuth\n",
        "from pydrive.drive import GoogleDrive\n",
        "from google.colab import auth\n",
        "from oauth2client.client import GoogleCredentials\n",
        "import pandas as pd\n",
        "import json\n",
        "from transformers import BertTokenizer\n",
        "from torch.utils.data import TensorDataset\n",
        "from transformers import BertForSequenceClassification\n",
        "from torch.utils.data import DataLoader, RandomSampler, SequentialSampler\n",
        "from transformers import AdamW, get_linear_schedule_with_warmup\n",
        "import numpy as np\n",
        "from pydrive.auth import GoogleAuth\n",
        "from pydrive.drive import GoogleDrive\n",
        "from google.colab import auth\n",
        "from oauth2client.client import GoogleCredentials\n",
        "from tqdm.notebook import tqdm\n",
        "import random\n",
        "import torch.nn.functional as F"
      ],
      "execution_count": null,
      "outputs": []
    },
    {
      "cell_type": "markdown",
      "metadata": {
        "id": "Rkkhev93SxMF"
      },
      "source": [
        "# 3. Dataset preparation & Google Drive Mounting\n",
        "- Copy train.jsonl and test.jsonl from Google Drive to Colab current session\n",
        "- Mount Google Drive to the Colab current session"
      ]
    },
    {
      "cell_type": "code",
      "metadata": {
        "id": "wETMfBQ0lLSQ"
      },
      "source": [
        "# train.json file location: https://drive.google.com/file/d/1d5lwaHPOUBAz7c-cNXXQeFn75ZV2HkUh/view?usp=sharing\n",
        "# test.jsonl file location: https://drive.google.com/file/d/1vA3uyqy1TZmahgZ0PeNRFx67LuYeAkoW/view?usp=sharing\n",
        "\n",
        "########################\n",
        "# The training dataset #\n",
        "########################\n",
        "# Google Drive file name\n",
        "training_file = 'train.jsonl'\n",
        "# Google Drive unique file ID\n",
        "training_file_id = '1d5lwaHPOUBAz7c-cNXXQeFn75ZV2HkUh'\n",
        "\n",
        "##################################\n",
        "# The evaluation/testing dataset #\n",
        "##################################\n",
        "# Google Drive file name\n",
        "evaluation_file = 'test.jsonl'\n",
        "# Google Drive unique file ID\n",
        "test_jsonl_file_id = \"1vA3uyqy1TZmahgZ0PeNRFx67LuYeAkoW\""
      ],
      "execution_count": null,
      "outputs": []
    },
    {
      "cell_type": "code",
      "metadata": {
        "id": "8OtoBZZGnzeP"
      },
      "source": [
        "# The files are available to public in my Google Drive\n",
        "# created for this project.\n",
        "#\n",
        "# Login using Google Account to proceed.\n",
        "#\n",
        "# Follow the link, copy-paste the code.\n",
        "\n",
        "auth.authenticate_user()\n",
        "gauth = GoogleAuth()\n",
        "gauth.credentials = GoogleCredentials.get_application_default()\n",
        "drive = GoogleDrive(gauth)\n",
        "\n",
        "downloaded = drive.CreateFile({'id':training_file_id})\n",
        "downloaded.GetContentFile(training_file)\n",
        "\n",
        "downloaded = drive.CreateFile({'id':test_jsonl_file_id})\n",
        "downloaded.GetContentFile(evaluation_file)"
      ],
      "execution_count": null,
      "outputs": []
    },
    {
      "cell_type": "code",
      "metadata": {
        "id": "WVY1QtPxqt1a",
        "outputId": "aa8d9e5e-3ad4-425b-b426-5ba1fc71bb0f",
        "colab": {
          "base_uri": "https://localhost:8080/"
        }
      },
      "source": [
        "# Mount Google Drive to the current Colab session\n",
        "# The trained model and answer file are copied to\n",
        "# the Google Drive.\n",
        "from google.colab import drive\n",
        "drive.mount('/content/uiuc')"
      ],
      "execution_count": null,
      "outputs": [
        {
          "output_type": "stream",
          "text": [
            "Drive already mounted at /content/uiuc; to attempt to forcibly remount, call drive.mount(\"/content/uiuc\", force_remount=True).\n"
          ],
          "name": "stdout"
        }
      ]
    },
    {
      "cell_type": "markdown",
      "metadata": {
        "id": "TEGMxBdjWWhF"
      },
      "source": [
        "# 4. The Notebook Class\n",
        "Class methods:\n",
        "- read_dataset_file: Read json line file and store it in Panda DataFrame\n",
        "- create_bert_model: Creating BERT Large uncased pre-trained model\n",
        "- run_training: Training the model with training dataset\n",
        "- evaluate_model: Evaluate the trained-model with testing/evaluation dataset\n",
        "- write_answers: Store the answers (sarcasm analysis) to a file in the current colab session"
      ]
    },
    {
      "cell_type": "code",
      "metadata": {
        "id": "bmHzdFZoWbL4"
      },
      "source": [
        "class BERT_Model:\n",
        "  def __init__(self):\n",
        "    self.model_name = 'bert-large-uncased'\n",
        "    self.label_dict = {'SARCASM': 0, 'NOT_SARCASM': 1}\n",
        "    self.batch_size = 5\n",
        "    self.epochs = 4\n",
        "    self.tokenizer = BertTokenizer.from_pretrained(self.model_name, do_lower_case=True)\n",
        "    if torch.cuda.is_available():    \n",
        "      self.device = torch.device('cuda')\n",
        "    else:\n",
        "      self.device = torch.device('cpu')\n",
        "\n",
        "  def read_dataset_file(self, the_file):\n",
        "    with open(the_file) as f:\n",
        "      # creating array of json\n",
        "      lines = f.read().splitlines()\n",
        "      df = pd.json_normalize(pd.DataFrame(lines)[0].apply(json.loads))\n",
        "      df.response = df.response.str.lower()\n",
        "      if 'label' in df:\n",
        "        df['label_value'] = df.label.replace(self.label_dict)\n",
        "    return df\n",
        "\n",
        "  def create_bert_model(self, df, lr, eps):\n",
        "    encoded_data = self.tokenizer.batch_encode_plus(\n",
        "        df.response.values,\n",
        "        add_special_tokens=True,\n",
        "        return_attention_mask=True,\n",
        "        max_length=df.response.str.len().max()+5,\n",
        "        padding='max_length',\n",
        "        return_tensors='pt'\n",
        "    )\n",
        "\n",
        "    self.training_dataset = TensorDataset(encoded_data['input_ids'], \n",
        "                            encoded_data['attention_mask'], \n",
        "                            torch.tensor(df.label_value.values))\n",
        "\n",
        "    self.model = BertForSequenceClassification.from_pretrained(self.model_name,\n",
        "                                                          num_labels=len(self.label_dict),\n",
        "                                                          output_attentions=False,\n",
        "                                                          output_hidden_states=False)\n",
        "    self.model.to(self.device)\n",
        "    self.optimizer = AdamW(self.model.parameters(), lr=lr, eps=eps)\n",
        "    self.scheduler = get_linear_schedule_with_warmup(self.optimizer, num_warmup_steps=0, \n",
        "                                                     num_training_steps=len(self.training_dataset)*self.epochs)\n",
        "\n",
        "  def run_training(self, file_save, seed_val=17):\n",
        "    random.seed(seed_val)\n",
        "    np.random.seed(seed_val)\n",
        "    torch.manual_seed(seed_val)\n",
        "    torch.cuda.manual_seed_all(seed_val)\n",
        "    data_loader = DataLoader(self.training_dataset, sampler=RandomSampler(self.training_dataset), batch_size=self.batch_size)\n",
        "\n",
        "    # loop over the full dataset for a number of epochs times.\n",
        "    for epoch in tqdm(range(self.epochs)):\n",
        "        \n",
        "        # To set the model into a training mode.\n",
        "        self.model.train()\n",
        "        \n",
        "        # Measure the total training loss for each epoch.\n",
        "        loss_train_total = 0\n",
        "        # Progressbar to show the progress of the current epoch.\n",
        "        progress_bar = tqdm(data_loader, desc='Epoch {:1d}'.format(epoch+1), leave=False, disable=False)\n",
        "        \n",
        "        # Process each batch in the current epoch.\n",
        "        for batch in progress_bar:\n",
        "\n",
        "            # Always clear any previously calculated gradients before performing a backward pass. \n",
        "            # (source: https://stackoverflow.com/questions/48001598/why-do-we-need-to-call-zero-grad-in-pytorch)\n",
        "            self.model.zero_grad()\n",
        "            \n",
        "            # Unpack current training batch.\n",
        "            # batch contains three pytorch tensors:\n",
        "            #   [0]: input ids \n",
        "            #   [1]: attention masks\n",
        "            #   [2]: labels \n",
        "            batch = tuple(b.to(self.device) for b in batch)\n",
        "            \n",
        "            inputs = {'input_ids':      batch[0],\n",
        "                      'attention_mask': batch[1],\n",
        "                      'labels':         batch[2],\n",
        "                    }       \n",
        "\n",
        "            # This is the actual learning.\n",
        "            outputs = self.model(**inputs)\n",
        "            \n",
        "            # Current training loss.\n",
        "            loss = outputs[0]\n",
        "            # Current total training loss.\n",
        "            loss_train_total = loss_train_total + loss.item()\n",
        "\n",
        "            # Perform a backward pass to calculate the gradients.\n",
        "            loss.backward()\n",
        "\n",
        "            # Clip the norm of the gradients to 1.0.\n",
        "            # This is to help prevent the \"exploding gradients\" problem.\n",
        "            torch.nn.utils.clip_grad_norm_(self.model.parameters(), 1.0)\n",
        "\n",
        "            # Update parameters and take a step using the computed gradient.\n",
        "            # The optimizer dictates the \"update rule\"--how the parameters are\n",
        "            # modified based on their gradients, the learning rate, etc.\n",
        "            self.optimizer.step()\n",
        "\n",
        "            # Update the learning rate.\n",
        "            self.scheduler.step()\n",
        "            \n",
        "            progress_bar.set_postfix({'training_loss': '{:.3f}'.format(loss.item()/len(batch))})\n",
        "            \n",
        "        # Save the trained BERT model for the current epoch iteration    \n",
        "        torch.save(self.model.state_dict(), f'{file_save}_{epoch+1}.model')\n",
        "\n",
        "        # Report the summary of epoch iteration\n",
        "        tqdm.write(f'\\nEpoch {epoch+1} is completed')\n",
        "    tqdm.write(f'\\n#########################')\n",
        "    tqdm.write(f'\\n# Training is completed #')\n",
        "    tqdm.write(f'\\n#########################')\n",
        "\n",
        "\n",
        "  def evaluate_model(self, file_name, df):\n",
        "    self.model.load_state_dict(torch.load(file_name, map_location=torch.device(self.device)))\n",
        "    self.model.eval()\n",
        "    loss_val_total = 0\n",
        "    predictions = []\n",
        "\n",
        "    encoded_data = self.tokenizer.batch_encode_plus(\n",
        "        df.response.values,\n",
        "        add_special_tokens=True,\n",
        "        return_attention_mask=True,\n",
        "        max_length=df.response.str.len().max()+5,\n",
        "        padding='max_length',\n",
        "        return_tensors='pt'\n",
        "    )\n",
        "\n",
        "    dataset = TensorDataset(encoded_data['input_ids'], encoded_data['attention_mask'])\n",
        "    dataloader = DataLoader(dataset, sampler=SequentialSampler(dataset), batch_size=self.batch_size)\n",
        "\n",
        "    for batch in dataloader:\n",
        "      batch = tuple(b.to(self.device) for b in batch)\n",
        "      inputs = {'input_ids': batch[0], 'attention_mask': batch[1]}\n",
        "\n",
        "      with torch.no_grad():\n",
        "        # evaluate the validation dataset\n",
        "        output = self.model(**inputs)\n",
        "        logits = output[0]\n",
        "        # print(output)\n",
        "        logits = logits.detach().cpu().numpy()\n",
        "        predictions.append(logits)\n",
        "\n",
        "    predictions = np.concatenate(predictions, axis=0)\n",
        "    preds_flat = np.argmax(predictions, axis=1).flatten()\n",
        "\n",
        "    print('######################')\n",
        "    print('# Evaluation is done #')\n",
        "    print('######################')\n",
        "\n",
        "    return preds_flat\n",
        "\n",
        "  def write_answers(self, file_name, preds_flat):\n",
        "    f= open(file_name,\"w\")\n",
        "    i = 1\n",
        "    for pred in enumerate(preds_flat):\n",
        "      if pred[1] == 0:\n",
        "        text = 'SARCASM'\n",
        "      else:\n",
        "        text = 'NOT_SARCASM'\n",
        "      f.write('twitter_{0},{1}\\n'.format(i, text))\n",
        "      i = i + 1\n",
        "    f.close()"
      ],
      "execution_count": null,
      "outputs": []
    },
    {
      "cell_type": "markdown",
      "metadata": {
        "id": "WXh6RTPJixST"
      },
      "source": [
        "# 5. Model Creation, Training and Evaluation\n",
        "Create, train and evaluate the pre-trained BERT model using the following parameters: \n",
        "- Learning rates (each for 4 epoch iterations):\n",
        "  - Option-1: 2e-5\n",
        "  - Option-2: 5e-5\n",
        "- AdamW Optimizer Epsilon value: 1e-8\n",
        "- Random Seed value: 17\n",
        "- Evaluation is done only for model epoch # 4"
      ]
    },
    {
      "cell_type": "code",
      "metadata": {
        "id": "wrdLmkspi5WJ",
        "outputId": "1494b638-32ba-4295-c09d-550081f588e5",
        "colab": {
          "base_uri": "https://localhost:8080/"
        }
      },
      "source": [
        "# Create the model\n",
        "the_model = BERT_Model()\n",
        "\n",
        "the_model.df_train = the_model.read_dataset_file(training_file)\n",
        "the_model.df_eval = the_model.read_dataset_file(evaluation_file)\n",
        "\n",
        "print(the_model.df_train)\n",
        "print(the_model.df_eval)"
      ],
      "execution_count": null,
      "outputs": [
        {
          "output_type": "stream",
          "text": [
            "            label  ... label_value\n",
            "0         SARCASM  ...           0\n",
            "1         SARCASM  ...           0\n",
            "2         SARCASM  ...           0\n",
            "3         SARCASM  ...           0\n",
            "4         SARCASM  ...           0\n",
            "...           ...  ...         ...\n",
            "4995  NOT_SARCASM  ...           1\n",
            "4996  NOT_SARCASM  ...           1\n",
            "4997  NOT_SARCASM  ...           1\n",
            "4998  NOT_SARCASM  ...           1\n",
            "4999  NOT_SARCASM  ...           1\n",
            "\n",
            "[5000 rows x 4 columns]\n",
            "                id  ...                                            context\n",
            "0        twitter_1  ...  [Well now that ’ s problematic AF <URL>, @USER...\n",
            "1        twitter_2  ...  [Last week the Fake News said that a section o...\n",
            "2        twitter_3  ...  [@USER Let ’ s Aplaud Brett When he deserves i...\n",
            "3        twitter_4  ...  [Women generally hate this president . What's ...\n",
            "4        twitter_5  ...  [Dear media Remoaners , you excitedly sharing ...\n",
            "...            ...  ...                                                ...\n",
            "1795  twitter_1796  ...  [I have been a business customer of MWeb @USER...\n",
            "1796  twitter_1797  ...  [A woman refuses to have her temperature taken...\n",
            "1797  twitter_1798  ...  [The reason big government wants @USER out is ...\n",
            "1798  twitter_1799  ...  [Happy #musicmonday and #thanks for #all your ...\n",
            "1799  twitter_1800  ...  [Not long wrapped on the amazing #January22nd ...\n",
            "\n",
            "[1800 rows x 3 columns]\n"
          ],
          "name": "stdout"
        }
      ]
    },
    {
      "cell_type": "markdown",
      "metadata": {
        "id": "kh12h1i-2VQs"
      },
      "source": [
        "## 5.1. Training & Evaluation #1\n",
        "- Learning rate: 2e-5\n",
        "- Epsilon: 1e-8\n",
        "- Seed value: 17"
      ]
    },
    {
      "cell_type": "code",
      "metadata": {
        "id": "LPmyejFjgN6R",
        "outputId": "3c37ea65-a7e7-4163-c5ca-6b3d417b9c0f",
        "colab": {
          "base_uri": "https://localhost:8080/",
          "height": 460,
          "referenced_widgets": [
            "6f26e85cf6fe43688cfcc1737be04ff0",
            "aece61151c66490ba4579014dfc5f141",
            "28b46c1e8d364d8d95dca06ca6dc1f37",
            "35b089962288471e9ea513ff7907ff52",
            "4cbe5fc6257a4f62987bf06c43af2ced",
            "7ded08310cf1469e8a0b7e953866be1b",
            "e9f4a2b1e93c4ec88ab2d56c50212f39",
            "b723b218b05b45f7829628905f5fd62a",
            "0ecdd8036a394840bd817cdc5a396fdd",
            "d8ce15de73bf49ce84101c7a988ed5e9",
            "d5e67714d4ad445883693009c6974ffa",
            "f7e009e9ee964b39b3d666b72d0cff86",
            "6406b074d92e41b3abde4344cc97b556",
            "f43fe9ed5bef4e41bb3eda08490a5086",
            "7de30d2ebb3d422f81e490b4b02940b0",
            "80551a71edb6404d864bf979ba2aaacc",
            "bd6fd80bd01b4f399b3c1e746715c09c",
            "0d5b414dbebd40819224bde1cd3b037d",
            "bfe868b131b24fe0ab0e69399b2f393d",
            "3df620fface4427cbb2cf72093c119da",
            "fda21f6880114f38a80249ef7d0a8eeb",
            "4ab4042112d041c6871cec06865088cf",
            "c4db75d6fea74331ba5cfd3d77b87226",
            "c45e62964bfb4a56988b7d44cfa9c911",
            "aea3f19b6b8f454891962eca8b5748ca",
            "0f0eb18c400049afa84971415a18f624",
            "5047f8ab57414a7d9b66b2a017e03177",
            "7106e0f918f9401c81938e8a5fcf7285",
            "6af4ca4f33e24a36a8f2560e9b2c56e9",
            "96902da87d0549d6a1ef6e6747667d31",
            "e4624bdcc3a94f9ca4930075479d34c7",
            "6e156c658bb64e7bb06e66680a69c30c",
            "da1a0336857a4ee584fc75fb78d0dd94",
            "96ae7a4c52b64c8dbdc4cfb4441c473e",
            "ef38816a1ec54b9ab7818ad8b1a1b678",
            "55a167ec191f451b8609550be9bc27fd",
            "c56e52e79d0f448d83dea23580168357",
            "42eb35893c324d18a37c03698256b27d",
            "d55f02098a6042798725a16367f0e5a8",
            "44b40925cfb04d8bac5dbc607ead6525"
          ]
        }
      },
      "source": [
        "epoch_to_evaluate = 4\n",
        "\n",
        "the_model.create_bert_model(the_model.df_train, 2e-5, 1e-8)\n",
        "the_model.run_training('lr_2e-5_1e-8_17', 17)\n",
        "preds_flat = the_model.evaluate_model(f'lr_2e-5_1e-8_17_{epoch_to_evaluate}.model', the_model.df_eval)\n",
        "the_model.write_answers(f'lr_2e-5_1e-8_17_{epoch_to_evaluate}_answer.txt', preds_flat)"
      ],
      "execution_count": null,
      "outputs": [
        {
          "output_type": "stream",
          "text": [
            "Some weights of the model checkpoint at bert-large-uncased were not used when initializing BertForSequenceClassification: ['cls.predictions.bias', 'cls.predictions.transform.dense.weight', 'cls.predictions.transform.dense.bias', 'cls.predictions.decoder.weight', 'cls.seq_relationship.weight', 'cls.seq_relationship.bias', 'cls.predictions.transform.LayerNorm.weight', 'cls.predictions.transform.LayerNorm.bias']\n",
            "- This IS expected if you are initializing BertForSequenceClassification from the checkpoint of a model trained on another task or with another architecture (e.g. initializing a BertForSequenceClassification model from a BertForPretraining model).\n",
            "- This IS NOT expected if you are initializing BertForSequenceClassification from the checkpoint of a model that you expect to be exactly identical (initializing a BertForSequenceClassification model from a BertForSequenceClassification model).\n",
            "Some weights of BertForSequenceClassification were not initialized from the model checkpoint at bert-large-uncased and are newly initialized: ['classifier.weight', 'classifier.bias']\n",
            "You should probably TRAIN this model on a down-stream task to be able to use it for predictions and inference.\n"
          ],
          "name": "stderr"
        },
        {
          "output_type": "display_data",
          "data": {
            "application/vnd.jupyter.widget-view+json": {
              "model_id": "6f26e85cf6fe43688cfcc1737be04ff0",
              "version_minor": 0,
              "version_major": 2
            },
            "text/plain": [
              "HBox(children=(FloatProgress(value=0.0, max=4.0), HTML(value='')))"
            ]
          },
          "metadata": {
            "tags": []
          }
        },
        {
          "output_type": "display_data",
          "data": {
            "application/vnd.jupyter.widget-view+json": {
              "model_id": "0ecdd8036a394840bd817cdc5a396fdd",
              "version_minor": 0,
              "version_major": 2
            },
            "text/plain": [
              "HBox(children=(FloatProgress(value=0.0, description='Epoch 1', max=1000.0, style=ProgressStyle(description_wid…"
            ]
          },
          "metadata": {
            "tags": []
          }
        },
        {
          "output_type": "stream",
          "text": [
            "\r\n",
            "Epoch 1 is completed\n"
          ],
          "name": "stdout"
        },
        {
          "output_type": "display_data",
          "data": {
            "application/vnd.jupyter.widget-view+json": {
              "model_id": "bd6fd80bd01b4f399b3c1e746715c09c",
              "version_minor": 0,
              "version_major": 2
            },
            "text/plain": [
              "HBox(children=(FloatProgress(value=0.0, description='Epoch 2', max=1000.0, style=ProgressStyle(description_wid…"
            ]
          },
          "metadata": {
            "tags": []
          }
        },
        {
          "output_type": "stream",
          "text": [
            "\r\n",
            "Epoch 2 is completed\n"
          ],
          "name": "stdout"
        },
        {
          "output_type": "display_data",
          "data": {
            "application/vnd.jupyter.widget-view+json": {
              "model_id": "aea3f19b6b8f454891962eca8b5748ca",
              "version_minor": 0,
              "version_major": 2
            },
            "text/plain": [
              "HBox(children=(FloatProgress(value=0.0, description='Epoch 3', max=1000.0, style=ProgressStyle(description_wid…"
            ]
          },
          "metadata": {
            "tags": []
          }
        },
        {
          "output_type": "stream",
          "text": [
            "\r\n",
            "Epoch 3 is completed\n"
          ],
          "name": "stdout"
        },
        {
          "output_type": "display_data",
          "data": {
            "application/vnd.jupyter.widget-view+json": {
              "model_id": "da1a0336857a4ee584fc75fb78d0dd94",
              "version_minor": 0,
              "version_major": 2
            },
            "text/plain": [
              "HBox(children=(FloatProgress(value=0.0, description='Epoch 4', max=1000.0, style=ProgressStyle(description_wid…"
            ]
          },
          "metadata": {
            "tags": []
          }
        },
        {
          "output_type": "stream",
          "text": [
            "\r\n",
            "Epoch 4 is completed\n",
            "\n",
            "\n",
            "#########################\n",
            "\n",
            "# Training is completed #\n",
            "\n",
            "#########################\n",
            "######################\n",
            "# Evaluation is done #\n",
            "######################\n"
          ],
          "name": "stdout"
        }
      ]
    },
    {
      "cell_type": "markdown",
      "metadata": {
        "id": "IlDGWcKW2rNo"
      },
      "source": [
        "## 5.2. Training & Evaluation #2\n",
        "- Learning rate: 5e-5\n",
        "- Epsilon: 1e-8\n",
        "- Seed value: 17"
      ]
    },
    {
      "cell_type": "code",
      "metadata": {
        "id": "F0KSZDMW4yKy"
      },
      "source": [
        "epoch_to_evaluate = 4\n",
        "\n",
        "the_model.create_bert_model(the_model.df_train, 5e-5, 1e-8)\n",
        "the_model.run_training('lr_5e-5_1e-8_17', 17)\n",
        "preds_flat = the_model.evaluate_model(f'lr_5e-5_1e-8_17_{epoch_to_evaluate}.model', the_model.df_eval)\n",
        "the_model.write_answers(f'lr_5e-5_1e-8_17_{epoch_to_evaluate}_answer.txt', preds_flat)"
      ],
      "execution_count": null,
      "outputs": []
    },
    {
      "cell_type": "markdown",
      "metadata": {
        "id": "FJXyl3HetlqI"
      },
      "source": [
        "# 6. Save Results to Google Drive\n",
        "Copy the model and answer files to Google Drive."
      ]
    },
    {
      "cell_type": "markdown",
      "metadata": {
        "id": "pn48B78X2xbT"
      },
      "source": [
        "## 6.1. Save Training & Evaluation #1 Results\n",
        "- Learning rate: 2e-5\n",
        "- Epsilon: 1e-8\n",
        "- Seed value: 17"
      ]
    },
    {
      "cell_type": "code",
      "metadata": {
        "id": "5eJG_zBsqXzJ"
      },
      "source": [
        "!cp 'lr_2e-5_1e-8_17_4_answer.txt' 'uiuc/My Drive/cs410/final_project/lr_2e-5_1e-8_17_4_answer.txt'\n",
        "!cp 'lr_2e-5_1e-8_17_4.model' 'uiuc/My Drive/cs410/final_project/lr_2e-5_1e-8_17_4.model'"
      ],
      "execution_count": null,
      "outputs": []
    },
    {
      "cell_type": "markdown",
      "metadata": {
        "id": "8fg3NqJw24rC"
      },
      "source": [
        "## 6.2. Save Training & Evaluation #2 Results\n",
        "- Learning rate: 5e-5\n",
        "- Epsilon: 1e-8\n",
        "- Seed value: 17"
      ]
    },
    {
      "cell_type": "code",
      "metadata": {
        "id": "XOSa7yNh5HTK"
      },
      "source": [
        "!cp 'lr_5e-5_1e-8_17_4_answer.txt' 'uiuc/My Drive/cs410/final_project/lr_5e-5_1e-8_17_4_answer.txt'\n",
        "!cp 'lr_5e-5_1e-8_17_4.model' 'uiuc/My Drive/cs410/final_project/lr_5e-5_1e-8_17_4.model'"
      ],
      "execution_count": null,
      "outputs": []
    },
    {
      "cell_type": "markdown",
      "metadata": {
        "id": "AWND5A8TIVYu"
      },
      "source": [
        "# 7. Summary\n",
        "- <b>Rank-1</b>: Learning rate: <b>2e-8</b>, Epoch: # 4, Epsilon: 1e-8, Seed value: 17\n",
        "  - F1 score: <b>0.757905138339921</b>\n",
        "  - Precision: 0.6823843416370107\n",
        "  - Recall: 0.8522222222222222\n",
        "\n",
        "- Rank-2: Learning rate: <b>5e-8</b>, Epoch: # 4, Epsilon: 1e-8, Seed value: 17\n",
        "  - F1 score: \n",
        "  - Precision: \n",
        "  - Recall: "
      ]
    }
  ]
}